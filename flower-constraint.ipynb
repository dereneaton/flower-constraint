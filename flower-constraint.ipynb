{
 "metadata": {
  "name": "",
  "signature": "sha256:7126c854c623967de681be9aa9455c4d6a1ca37c7738860193ec43e8a5f298e1"
 },
 "nbformat": 3,
 "nbformat_minor": 0,
 "worksheets": [
  {
   "cells": [
    {
     "cell_type": "markdown",
     "metadata": {},
     "source": [
      "## Evolutionary constraint and pollen-pistil relationships above and below the species level in Chinese _Pedicularis_ \n",
      "\n",
      "#### Authors: D. Eaton, R. Ree, ..., and S-Q. Huang\n",
      "#### Contact: deren.eaton@yale.edu\n",
      "\n",
      "----------------------------   \n"
     ]
    },
    {
     "cell_type": "markdown",
     "metadata": {},
     "source": [
      "This notebook includes a combination of command-line (__bash__), __R__, and __Python__ scripts that together can completely reproduce our analyis. The default language in any cell is Python, unless it has a header such as %%R or %%bash indicating an alternative, or (!) which executes bash calls. This notebook can be executed as an IPython notebook or each cell can be executed separately through copy-pasting. "
     ]
    },
    {
     "cell_type": "code",
     "collapsed": false,
     "input": [
      "## load necessary Python libraries\n",
      "import numpy as np\n",
      "import pandas as pd\n",
      "%load_ext rmagic"
     ],
     "language": "python",
     "metadata": {},
     "outputs": [],
     "prompt_number": 1
    },
    {
     "cell_type": "code",
     "collapsed": false,
     "input": [
      "%%R\n",
      "## load necessary R libraries\n",
      "library(ape)           ## for tree plotting\n",
      "library(wesanderson)   ## for color palette\n",
      "library(phytools)      ## for pgls regression\n",
      "library(nlme)          ## for pgls regression"
     ],
     "language": "python",
     "metadata": {},
     "outputs": [
      {
       "metadata": {},
       "output_type": "display_data",
       "text": [
        "Loading required package: maps\n",
        "Loading required package: rgl\n"
       ]
      }
     ],
     "prompt_number": 2
    },
    {
     "cell_type": "markdown",
     "metadata": {},
     "source": [
      "## Download sequence data"
     ]
    },
    {
     "cell_type": "code",
     "collapsed": false,
     "input": [
      "%%bash \n",
      "## available here\n",
      "## wget address > subsetCRANOs/"
     ],
     "language": "python",
     "metadata": {},
     "outputs": [],
     "prompt_number": 3
    },
    {
     "cell_type": "markdown",
     "metadata": {},
     "source": [
      "-------------------   \n",
      "\n",
      "## Within-species RADseq data assembly\n",
      "#### _pyRAD_ analysis\n",
      "From a larger population-level data set of >100 sequenced individuals (Eaton et al. In Prep), one individual was selected from each sampled population for this study."
     ]
    },
    {
     "cell_type": "code",
     "collapsed": false,
     "input": [
      "%%bash\n",
      "## creating working directory\n",
      "mkdir -p analysis_pyrad\n",
      "mkdir -p analysis_raxml"
     ],
     "language": "python",
     "metadata": {},
     "outputs": [],
     "prompt_number": 408
    },
    {
     "cell_type": "code",
     "collapsed": false,
     "input": [
      "%%bash\n",
      "## create template params file\n",
      "~/Dropbox/pyrad-git/pyRAD -n"
     ],
     "language": "python",
     "metadata": {},
     "outputs": [
      {
       "output_type": "stream",
       "stream": "stdout",
       "text": [
        "\tnew params.txt file created\r\n"
       ]
      }
     ],
     "prompt_number": 14
    },
    {
     "cell_type": "code",
     "collapsed": false,
     "input": [
      "%%bash \n",
      "## fill in relevant parameter settings\n",
      "sed -i '/## 1. /c\\analysis_pyrad/           ## 1. working directory ' params.txt\n",
      "sed -i '/## 7. /c\\10                        ## 7. N processors      ' params.txt\n",
      "sed -i '/## 8. /c\\10                        ## 8. mindepth          ' params.txt\n",
      "sed -i '/## 9. /c\\5                         ## 9. NQual             ' params.txt\n",
      "sed -i '/## 10./c\\.90                       ## 10. clust thresh.    ' params.txt\n",
      "sed -i '/## 12./c\\4                         ## 12. minCov           ' params.txt\n",
      "sed -i '/## 13./c\\p.50                      ## 13. maxSH            ' params.txt\n",
      "sed -i '/## 14./c\\c90d10m4p50               ## 14. outname          ' params.txt\n",
      "sed -i '/## 18./c\\subsetCRANOs/*.gz         ## 18. loc. files       ' params.txt\n",
      "sed -i '/## 21./c\\1                         ## 21. filter           ' params.txt\n",
      "sed -i '/## 29./c\\2,2                       ## 29. trim overhangs   ' params.txt\n",
      "sed -i '/## 30./c\\n                         ## 30. formats          ' params.txt"
     ],
     "language": "python",
     "metadata": {},
     "outputs": [],
     "prompt_number": 19
    },
    {
     "cell_type": "code",
     "collapsed": true,
     "input": [
      "## run pyrad assembly \n",
      "stderr = ! ~/Dropbox/pyrad-github/pyRAD -p params.txt -s 234567"
     ],
     "language": "python",
     "metadata": {},
     "outputs": []
    },
    {
     "cell_type": "markdown",
     "metadata": {},
     "source": [
      "## _RAxML_ phylogeny"
     ]
    },
    {
     "cell_type": "code",
     "collapsed": false,
     "input": [
      "raxcmd = \"raxmlHPC-PTHREADS-AVX -f a\"+ \\\n",
      "                               \" -p 12345\"+ \\\n",
      "                               \" -s analysis_pyrad/outfiles/c90d10m4p50.phy\"+ \\\n",
      "                               \" -x 12345\"+ \\\n",
      "                               \" -N 100 \"+ \\\n",
      "                               \" -m GTRGAMMA\"+ \\\n",
      "                               \" -n c90d10m4p50\"+ \\\n",
      "                               \" -o 30106,41112\"+ \\\n",
      "                               \" -w /home/deren/Documents/Pistils/analysis_raxml/ \"+ \\\n",
      "                               \" -T 15\"\n",
      "stderr = ! $raxcmd"
     ],
     "language": "python",
     "metadata": {},
     "outputs": []
    },
    {
     "cell_type": "markdown",
     "metadata": {},
     "source": [
      "## PL ultrametric tree"
     ]
    },
    {
     "cell_type": "code",
     "collapsed": false,
     "input": [
      "%%R\n",
      "## until BEAST is finished running use PL tree:\n",
      "\n",
      "## read in the tree\n",
      "tre <- read.tree(\"~/Documents/Pistils/analysis_raxml/RAxML_bestTree.c90d10m4p50\")\n",
      "\n",
      "## root tree on outgroups\n",
      "tre <- root(tre,c('30106','41112'), resolve.root=TRUE)\n",
      "\n",
      "## penalized likelihood scaling\n",
      "chronotree <- chronopl(tre, lambda=1)\n",
      "\n",
      "## exclude outgroups\n",
      "Ctree <- drop.tip(chronotree,c('41112','30106'))\n",
      "\n",
      "## record which taxon (population) names are in the tree\n",
      "nn <- Ctree$tip.label"
     ],
     "language": "python",
     "metadata": {},
     "outputs": [],
     "prompt_number": 5
    },
    {
     "cell_type": "code",
     "collapsed": false,
     "input": [
      "## a quick edit to the names of populations on the tree\n",
      "%R -o nn\n",
      "## edited using Python, then passed back to R b/c it's easier\n",
      "nn = [i.split(\".\")[0][1:] for i in nn]\n",
      "%R -i nn\n",
      "%R Ctree$tip.label <- nn;"
     ],
     "language": "python",
     "metadata": {},
     "outputs": [],
     "prompt_number": 6
    },
    {
     "cell_type": "markdown",
     "metadata": {},
     "source": [
      "## Population (within _P. cranolopha_) trait data\n",
      "\n",
      "Trait data were measured for 20 flowers in each population"
     ]
    },
    {
     "cell_type": "code",
     "collapsed": false,
     "input": [
      "%%R\n",
      "## read in the trait data and order it by the tree labels\n",
      "DF <- read.table(\"crano_means2.txt\", header=TRUE)\n",
      "DF <- DF[Ctree$tip.label,]\n",
      "## DF"
     ],
     "language": "python",
     "metadata": {},
     "outputs": [],
     "prompt_number": 7
    },
    {
     "cell_type": "code",
     "collapsed": false,
     "input": [
      "%%R\n",
      "names(wes_palette)"
     ],
     "language": "python",
     "metadata": {},
     "outputs": [
      {
       "output_type": "stream",
       "stream": "stdout",
       "text": [
        "Error in withVisible({ : object 'wes_palette' not found\n"
       ]
      }
     ],
     "prompt_number": 8
    },
    {
     "cell_type": "code",
     "collapsed": false,
     "input": [
      "%%R -w 400 -h 400 -u px\n",
      "\n",
      "## two-panel figure\n",
      "#svg(\"intra_tree.svg\")\n",
      "par(mfrow=c(1,2))\n",
      "par(mar=c(4.1,0,1.1,0.1))\n",
      "\n",
      "## treeplot w/ barplot\n",
      "plot(Ctree, legend=FALSE, \n",
      "     edge.width=3, cex=1.5, show.tip.label=FALSE)\n",
      "barplot(DF[,6]+DF[,7], horiz=TRUE, width=0.8, space=0.25,\n",
      "        ylim=c(1,length(Ctree$tip.label))-0.5,\n",
      "        names=\"\")#, xlim=c(0,5))\n",
      "barplot(DF[,6], horiz=TRUE, width=0.8, space=0.25,\n",
      "        ylim=c(1,length(Ctree$tip.label))-0.5,\n",
      "        names=\"\", col='coral3', add=TRUE)#, xlim=c(0,5))\n",
      "\n",
      "## add points for pollen volume\n",
      "points(DF[,13],seq(1,length(DF[,13]))-0.45, pch=20, cex=2)\n",
      "\n",
      "#dev.off()"
     ],
     "language": "python",
     "metadata": {},
     "outputs": [
      {
       "metadata": {},
       "output_type": "display_data",
       "png": "[encoded data removed]"
      }
     ],
     "prompt_number": 14
    },
    {
     "cell_type": "markdown",
     "metadata": {},
     "source": [
      "----------------    \n",
      "\n",
      "## Species-level data  \n",
      "\n",
      "+ Pollen volume & pistil length data are taken from Table x in Yang et al. (2004)  \n",
      "+ Corolla tube & beak length data are taken from Table x in Eaton & Ree (2012)  \n",
      "+ The species-level phylogeny is taken from Eaton & Ree (2012)"
     ]
    },
    {
     "cell_type": "code",
     "collapsed": false,
     "input": [
      "%%R -w 400 -h 1000 -u px\n",
      "## plot species-level tree\n",
      "trees = read.tree(\"pedicularis.ucln.trees\")\n",
      "plot(ladderize(trees[[1]]), edge.width=2, cex=0.8)"
     ],
     "language": "python",
     "metadata": {},
     "outputs": [
      {
       "metadata": {},
       "output_type": "display_data",
       "png": "[encoded data removed]"
      }
     ],
     "prompt_number": 16
    },
    {
     "cell_type": "markdown",
     "metadata": {},
     "source": [
      "Some of the taxa with trait data are not represented in the tree, but have a very close relative (based on morphology/taxonomy) and thus we substitute that phylogenetically sampled taxon for the one with trait data, since this is adequate at the scale of this analysis to represent phylogenetic distance. Substitutions were: "
     ]
    },
    {
     "cell_type": "code",
     "collapsed": false,
     "input": [
      "#for i,j in [(i,j) for i,j in zip(Ydata.species,Ydata.tree_representative) if i!=j]:\n",
      "#    print j, 'substituted for', i"
     ],
     "language": "python",
     "metadata": {},
     "outputs": [],
     "prompt_number": 17
    },
    {
     "cell_type": "markdown",
     "metadata": {},
     "source": [
      "-----------------------   \n",
      "\n",
      "## Comparative Methods  \n",
      "\n",
      "Load the necessary _R_ libraries "
     ]
    },
    {
     "cell_type": "markdown",
     "metadata": {},
     "source": [
      "### Joint fit of phylogenetic signal and phylogenetic generalized least squares\n",
      "Method from Revell (2007) further described on the phytools blog:  \n",
      "[http://blog.phytools.org/2012/11/fitting-model-in-phylogenetic.html](http://blog.phytools.org/2012/11/fitting-model-in-phylogenetic.html)  \n",
      "\n",
      "#### Species-level results"
     ]
    },
    {
     "cell_type": "code",
     "collapsed": false,
     "input": [
      "%%R\n",
      "\n",
      "## load trait data\n",
      "dat <- read.table(\"Yang2004_data.txt\", sep=\"\\t\", header=TRUE)\n",
      "\n",
      "## drop tips for taxa w/o traits data\n",
      "species <- dat[,2]\n",
      "prunetrees <- lapply(trees, \n",
      "                     drop.tip, \n",
      "                     trees[[1]]$tip.label[-na.omit(match(species, trees[[1]]$tip.label))])\n",
      "\n",
      "## prune trait data\n",
      "traits <- dat[dat[,2] %in% prunetrees[[1]]$tip.label,]"
     ],
     "language": "python",
     "metadata": {},
     "outputs": [],
     "prompt_number": 18
    },
    {
     "cell_type": "code",
     "collapsed": false,
     "input": [
      "%%R\n",
      "## set taxon names to trait data frame\n",
      "rownames(traits) <- traits[,2]"
     ],
     "language": "python",
     "metadata": {},
     "outputs": [],
     "prompt_number": 19
    },
    {
     "cell_type": "markdown",
     "metadata": {},
     "source": [
      "#### Visualize variation on the treee"
     ]
    },
    {
     "cell_type": "code",
     "collapsed": false,
     "input": [
      "%%R -w 400 -h 600 -u px\n",
      "## figure\n",
      "#svg(\"inter_tree.svg\")\n",
      "par(mfcol=c(1,2))\n",
      "par(mar=c(4.1,0.0,1.1,0.0))\n",
      "\n",
      "testtree <- prunetrees[[10]]   ## a randomly chosen tree for plots\n",
      "\n",
      "pollen  <- traits[testtree$tip.label,5]   ## pollen vol from Yang 2004\n",
      "tubes   <- traits[testtree$tip.label,11]  ## cor tubes from Eaton 2012\n",
      "beaks   <- traits[testtree$tip.label,12]  ## beaks from Eaton 2012\n",
      "Ypistils <- traits[testtree$tip.label,3]  ## pistils from Yang 2004\n",
      "Epistils <- tubes+beaks+1                   ## pistils from Eaton 2012\n",
      "\n",
      "## plot pistil length as cor tube + galea length\n",
      "#color=rgb(0.9,0.1,0.1,alpha=0.9)\n",
      "color='azure3'\n",
      "plot(testtree, cex=0.8, edge.width=2, show.tip.label=FALSE)\n",
      "barplot(Epistils, horiz=TRUE, width=0.8, space=0.25,\n",
      "        ylim=c(1,length(testtree$tip.label))-0.5, \n",
      "        names=\"\", col=color)\n",
      "\n",
      "## plot corolla tube alone\n",
      "#color=rgb(0.5,0.8,0.8,alpha=0.9)\n",
      "color='coral3'\n",
      "barplot(tubes, horiz=TRUE, width=0.8, space=0.25,\n",
      "        ylim=c(1,length(prunetrees[[1]]$tip.label))-0.5, \n",
      "        names=\"\", col=color, add=TRUE, alpha=0.5)\n",
      "\n",
      "## add points for pollen volume\n",
      "points(pollen/1000,seq(1,length(pollen))-0.4, pch=20, cex=1)\n",
      "\n",
      "#dev.off()"
     ],
     "language": "python",
     "metadata": {},
     "outputs": [
      {
       "metadata": {},
       "output_type": "display_data",
       "png": "[encoded data removed]"
      }
     ],
     "prompt_number": 41
    },
    {
     "cell_type": "markdown",
     "metadata": {},
     "source": [
      "### Which pistil measurement to use?  \n",
      "\n",
      "The pistil measurements from Yang et al. (2004) are very similar to those taken from the literature (Eaton et al. 2012), as shown below ($r_p$=0.79). Here we choose to use the literature values since they may more accurately represent a mean measured across the species, and because they provide both corolla tube and galea beak measurements, so that we can examine these traits in relation to total pistil length.  "
     ]
    },
    {
     "cell_type": "code",
     "collapsed": false,
     "input": [
      "%%R\n",
      "cor(log(Epistils),log(Ypistils))"
     ],
     "language": "python",
     "metadata": {},
     "outputs": [
      {
       "metadata": {},
       "output_type": "display_data",
       "text": [
        "[1] 0.7872794\n"
       ]
      }
     ],
     "prompt_number": 25
    },
    {
     "cell_type": "markdown",
     "metadata": {},
     "source": [
      "### PGLS regression of pollen ~ pistil\n",
      "Sometimes has to be run multiple times if it fails to optimize"
     ]
    },
    {
     "cell_type": "code",
     "collapsed": false,
     "input": [
      "%%R -n\n",
      "\n",
      "## perform over a posterior sample of trees\n",
      "ints <- c()\n",
      "slopes <- c()\n",
      "lambs <- c()\n",
      "aics <- c()\n",
      "\n",
      "for (tree in prunetrees) {\n",
      "    pollen  <- traits[tree$tip.label,5]   ## pollen vol from Yang 2004\n",
      "    tubes   <- traits[tree$tip.label,11]  ## cor tubes from Eaton 2012\n",
      "    beaks   <- traits[tree$tip.label,12]  ## beaks from Eaton 2012\n",
      "    Ypistils <- traits[tree$tip.label,3]  ## pistils from Yang 2004\n",
      "    Epistils <- tubes+beaks               ## pistils from Eaton 2012 \n",
      "\n",
      "    datain <- data.frame(pollen,tubes,beaks,Ypistils,Epistils)\n",
      "    rownames(datain) <- tree$tip.label\n",
      "\n",
      "    ## here I use a 'try' statement b/c it seems to fail \n",
      "    ## on a few trees if there are nearly zero-length branches\n",
      "    fitlambda <- try(gls(log(Ypistils)~log(pollen),\n",
      "                         data=datain,\n",
      "                         correlation=corPagel(1,tree,fixed=FALSE),\n",
      "                         method=\"ML\"));\n",
      "    \n",
      "    if(class(fitlambda) != \"try-error\") {\n",
      "        lambda <- fitlambda$modelStruct[[1]][[1]]\n",
      "        if (lambda > 0 & lambda < 1) {\n",
      "            ints <- c(ints,fitlambda$coefficients[[1]])\n",
      "            slopes <- c(slopes, fitlambda$coefficients[[2]])\n",
      "            lambs <- c(lambs, fitlambda$modelStruct[[1]][[1]])\n",
      "            aics  <- c(aics, summary(fitlambda)$AIC)\n",
      "            }\n",
      "    }\n",
      "}\n",
      "\n",
      "## fit the model without phylogenetic data\n",
      "fitnone <- gls(log(Ypistils)~log(pollen), data=datain)"
     ],
     "language": "python",
     "metadata": {},
     "outputs": [
      {
       "metadata": {},
       "output_type": "display_data",
       "text": [
        "Error in gls(log(Ypistils) ~ log(pollen), data = datain, correlation = corPagel(1,  : \n",
        "  false convergence (8)\n",
        "Error in corFactor.corStruct(object) : \n",
        "  NA/NaN/Inf in foreign function call (arg 1)\n",
        "Error in gls(log(Ypistils) ~ log(pollen), data = datain, correlation = corPagel(1,  : \n",
        "  false convergence (8)\n",
        "Error in gls(log(Ypistils) ~ log(pollen), data = datain, correlation = corPagel(1,  : \n",
        "  false convergence (8)\n",
        "Error in corFactor.corStruct(object) : \n",
        "  NA/NaN/Inf in foreign function call (arg 1)\n",
        "Error in corFactor.corStruct(object) : \n",
        "  NA/NaN/Inf in foreign function call (arg 1)\n",
        "Error in gls(log(Ypistils) ~ log(pollen), data = datain, correlation = corPagel(1,  : \n",
        "  false convergence (8)\n",
        "Error in eigen(val) : infinite or missing values in 'x'\n",
        "Error in corFactor.corStruct(object) : \n",
        "  NA/NaN/Inf in foreign function call (arg 1)\n",
        "Error in corFactor.corStruct(object) : \n",
        "  NA/NaN/Inf in foreign function call (arg 1)\n",
        "Error in corFactor.corStruct(object) : \n",
        "  NA/NaN/Inf in foreign function call (arg 1)\n"
       ]
      }
     ],
     "prompt_number": 26
    },
    {
     "cell_type": "code",
     "collapsed": false,
     "input": [
      "%%R -w 800 -h 300 -u px\n",
      "\n",
      "#png(\"inter_pistpollparam.png\", width=1000, height=300, res=92)\n",
      "par(mfrow=c(1,3), mar=c(4,5,4,1))\n",
      "hist(lambs, col='azure3', main='phylogenetic signal', cex.axis=1.5, cex.main=2, cex.lab=2)\n",
      "hist(slopes, col='coral3', main='coefficient', cex.axis=1.5, cex.main=2, cex.lab=2)\n",
      "#hist(ints, col='lightblue', main='intercepts')\n",
      "hist(c(summary(fitnone)$AIC,aics), \n",
      "     col='lightgoldenrod3',\n",
      "     main='AIC scores', \n",
      "     cex.axis=1.5, cex.main=2, cex.lab=2,\n",
      "     xlab=\"AIC score?\")\n",
      "abline(v=summary(fitnone)$AIC, lwd=3, col='coral3')\n",
      "#dev.off()"
     ],
     "language": "python",
     "metadata": {},
     "outputs": [
      {
       "metadata": {},
       "output_type": "display_data",
       "png": "[encoded data removed]"
      }
     ],
     "prompt_number": 38
    },
    {
     "cell_type": "code",
     "collapsed": false,
     "input": [
      "%%R\n",
      "summary(fitlambda)"
     ],
     "language": "python",
     "metadata": {},
     "outputs": [
      {
       "metadata": {},
       "output_type": "display_data",
       "text": [
        "Generalized least squares fit by maximum likelihood\n",
        "  Model: log(Ypistils) ~ log(pollen) \n",
        "  Data: datain \n",
        "       AIC      BIC   logLik\n",
        "  35.10339 41.43747 -13.5517\n",
        "\n",
        "Correlation Structure: corPagel\n",
        " Formula: ~1 \n",
        " Parameter estimate(s):\n",
        "   lambda \n",
        "0.4897156 \n",
        "\n",
        "Coefficients:\n",
        "                 Value Std.Error   t-value p-value\n",
        "(Intercept) -2.0987673 0.7284545 -2.881123  0.0068\n",
        "log(pollen)  0.3981753 0.0857399  4.643989  0.0000\n",
        "\n",
        " Correlation: \n",
        "            (Intr)\n",
        "log(pollen) -0.984\n",
        "\n",
        "Standardized residuals:\n",
        "        Min          Q1         Med          Q3         Max \n",
        "-2.14219715 -0.64328375 -0.07802176  0.80879467  1.52623177 \n",
        "\n",
        "Residual standard error: 0.3834669 \n",
        "Degrees of freedom: 36 total; 34 residual\n"
       ]
      }
     ],
     "prompt_number": 22
    },
    {
     "cell_type": "code",
     "collapsed": false,
     "input": [
      "%%R\n",
      "c(length(ints), length(prunetrees))"
     ],
     "language": "python",
     "metadata": {},
     "outputs": [
      {
       "metadata": {},
       "output_type": "display_data",
       "text": [
        "[1] 826 900\n"
       ]
      }
     ],
     "prompt_number": 23
    },
    {
     "cell_type": "code",
     "collapsed": false,
     "input": [
      "%%R -w 300 -h 300 -u px\n",
      "\n",
      "#svg(\"inter_pistpoll.svg\")\n",
      "## raw data points\n",
      "plot(log(Ypistils) ~ log(pollen),\n",
      "     pch=20,cex=2,\n",
      "     main=\"across species\",\n",
      "     xlab=\"pollen volume (log um^3)\",\n",
      "     ylab=\"pistil length (log mm)\")\n",
      "\n",
      "## 95% CI of fit w/ phylo correction\n",
      "abline(a=ints[which(slopes %in% min(slopes))],\n",
      "       b=min(slopes),\n",
      "       lty=1, lwd=5, col='lightblue')\n",
      "#abline(a=ints[which(slopes %in% max(slopes))],\n",
      "#       b=max(slopes),\n",
      "#       lty=1, lwd=5, col='lightblue')\n",
      "\n",
      "## fit w/o phylo correction\n",
      "abline(a=fitnone$coefficients[1],\n",
      "       b=fitnone$coefficients[2],\n",
      "       lty=1, lwd=5, col='red')\n",
      "\n",
      "## save SVG\n",
      "#dev.off()"
     ],
     "language": "python",
     "metadata": {},
     "outputs": [
      {
       "metadata": {},
       "output_type": "display_data",
       "png": "[encoded data removed]"
      }
     ],
     "prompt_number": 27
    },
    {
     "cell_type": "code",
     "collapsed": false,
     "input": [
      "%%R -w 300 -h 300 -u px\n",
      "\n",
      "contrast_tt <- pic(log(Epistils),prunetrees[[6]])\n",
      "contrast_pp <- pic(log(pollen),prunetrees[[6]])\n",
      "\n",
      "Regress_ttpp <- lm(contrast_tt~contrast_pp -1)\n",
      "\n",
      "plot(contrast_tt ~ contrast_pp, \n",
      "     pch=20, cex=2,\n",
      "     main = \"across species\",\n",
      "     xlab=\"pollen volume (independent contrast)\",\n",
      "     ylab=\"pistil length (independent contrast)\")\n",
      "\n",
      "abline(Regress_ttpp, lty=2, lwd=5, col='lightblue')\n",
      "summary(Regress_ttpp)"
     ],
     "language": "python",
     "metadata": {},
     "outputs": [
      {
       "metadata": {},
       "output_type": "display_data",
       "text": [
        "\n",
        "Call:\n",
        "lm(formula = contrast_tt ~ contrast_pp - 1)\n",
        "\n",
        "Residuals:\n",
        "    Min      1Q  Median      3Q     Max \n",
        "-6.4268 -1.6650 -0.4758  1.0918  4.9421 \n",
        "\n",
        "Coefficients:\n",
        "            Estimate Std. Error t value Pr(>|t|)  \n",
        "contrast_pp   0.2138     0.1037   2.062   0.0469 *\n",
        "---\n",
        "Signif. codes:  0 \u2018***\u2019 0.001 \u2018**\u2019 0.01 \u2018*\u2019 0.05 \u2018.\u2019 0.1 \u2018 \u2019 1\n",
        "\n",
        "Residual standard error: 2.724 on 34 degrees of freedom\n",
        "Multiple R-squared:  0.1112,\tAdjusted R-squared:  0.08503 \n",
        "F-statistic: 4.252 on 1 and 34 DF,  p-value: 0.0469\n",
        "\n"
       ]
      },
      {
       "metadata": {},
       "output_type": "display_data",
       "png": "[encoded data removed]"
      }
     ],
     "prompt_number": 28
    },
    {
     "cell_type": "markdown",
     "metadata": {},
     "source": [
      "### pistils ~ tubes"
     ]
    },
    {
     "cell_type": "code",
     "collapsed": false,
     "input": [
      "%%R -n\n",
      "\n",
      "## perform over a posterior sample of trees\n",
      "ints <- c()\n",
      "slopes <- c()\n",
      "lambs <- c()\n",
      "aics <- c()\n",
      "\n",
      "for (tree in prunetrees) {\n",
      "    pollen  <- traits[tree$tip.label,5]   ## pollen vol from Yang 2004\n",
      "    tubes   <- traits[tree$tip.label,11]  ## cor tubes from Eaton 2012\n",
      "    beaks   <- traits[tree$tip.label,12]  ## beaks from Eaton 2012\n",
      "    Ypistils <- traits[tree$tip.label,3]  ## pistils from Yang 2004\n",
      "    Epistils <- tubes+beaks               ## pistils from Eaton 2012 \n",
      "\n",
      "    datain <- data.frame(pollen,tubes,beaks,Ypistils,Epistils)\n",
      "    rownames(datain) <- tree$tip.label\n",
      "\n",
      "    ## here I use a 'try' statement b/c it seems to fail \n",
      "    ## on a few trees if there are nearly zero-length branches\n",
      "    fitlambda <- try(gls(log(Ypistils)~log(tubes),\n",
      "                         data=datain,\n",
      "                         correlation=corPagel(1,tree,fixed=FALSE),\n",
      "                         method=\"ML\"));\n",
      "    \n",
      "    if(class(fitlambda) != \"try-error\") {\n",
      "        lambda <- fitlambda$modelStruct[[1]][[1]]\n",
      "        if (lambda > 0 & lambda < 1) {\n",
      "            ints <- c(ints,fitlambda$coefficients[[1]])\n",
      "            slopes <- c(slopes, fitlambda$coefficients[[2]])\n",
      "            lambs <- c(lambs, fitlambda$modelStruct[[1]][[1]])\n",
      "            aics  <- c(aics, summary(fitlambda)$AIC)\n",
      "            }\n",
      "    }\n",
      "}\n",
      "\n",
      "## fit the model without phylogenetic data\n",
      "fitnone <- gls(log(Ypistils)~log(tubes), data=datain)"
     ],
     "language": "python",
     "metadata": {},
     "outputs": [
      {
       "metadata": {},
       "output_type": "display_data",
       "text": [
        "Error in corFactor.corStruct(object) : \n",
        "  NA/NaN/Inf in foreign function call (arg 1)\n",
        "Error in corFactor.corStruct(object) : \n",
        "  NA/NaN/Inf in foreign function call (arg 1)\n",
        "Error in gls(log(Ypistils) ~ log(tubes), data = datain, correlation = corPagel(1,  : \n",
        "  false convergence (8)\n",
        "Error in gls(log(Ypistils) ~ log(tubes), data = datain, correlation = corPagel(1,  : \n",
        "  false convergence (8)\n",
        "Error in corFactor.corStruct(object) : \n",
        "  NA/NaN/Inf in foreign function call (arg 1)\n",
        "Error in eigen(val) : infinite or missing values in 'x'\n",
        "Error in eigen(val) : infinite or missing values in 'x'\n",
        "Error in corFactor.corStruct(object) : \n",
        "  NA/NaN/Inf in foreign function call (arg 1)\n",
        "Error in corFactor.corStruct(object) : \n",
        "  NA/NaN/Inf in foreign function call (arg 1)\n",
        "Error in gls(log(Ypistils) ~ log(tubes), data = datain, correlation = corPagel(1,  : \n",
        "  false convergence (8)\n",
        "Error in gls(log(Ypistils) ~ log(tubes), data = datain, correlation = corPagel(1,  : \n",
        "  false convergence (8)\n",
        "Error in gls(log(Ypistils) ~ log(tubes), data = datain, correlation = corPagel(1,  : \n",
        "  false convergence (8)\n",
        "Error in corFactor.corStruct(object) : \n",
        "  NA/NaN/Inf in foreign function call (arg 1)\n",
        "Error in corFactor.corStruct(object) : \n",
        "  NA/NaN/Inf in foreign function call (arg 1)\n",
        "Error in corFactor.corStruct(object) : \n",
        "  NA/NaN/Inf in foreign function call (arg 1)\n",
        "Error in corFactor.corStruct(object) : \n",
        "  NA/NaN/Inf in foreign function call (arg 1)\n",
        "Error in corFactor.corStruct(object) : \n",
        "  NA/NaN/Inf in foreign function call (arg 1)\n",
        "Error in corFactor.corStruct(object) : \n",
        "  NA/NaN/Inf in foreign function call (arg 1)\n",
        "Error in corFactor.corStruct(object) : \n",
        "  NA/NaN/Inf in foreign function call (arg 1)\n",
        "Error in corFactor.corStruct(object) : \n",
        "  NA/NaN/Inf in foreign function call (arg 1)\n",
        "Error in corFactor.corStruct(object) : \n",
        "  NA/NaN/Inf in foreign function call (arg 1)\n",
        "Error in corFactor.corStruct(object) : \n",
        "  NA/NaN/Inf in foreign function call (arg 1)\n",
        "Error in eigen(val) : infinite or missing values in 'x'\n",
        "Error in gls(log(Ypistils) ~ log(tubes), data = datain, correlation = corPagel(1,  : \n",
        "  false convergence (8)\n",
        "Error in corFactor.corStruct(object) : \n",
        "  NA/NaN/Inf in foreign function call (arg 1)\n",
        "Error in corFactor.corStruct(object) : \n",
        "  NA/NaN/Inf in foreign function call (arg 1)\n",
        "Error in corFactor.corStruct(object) : \n",
        "  NA/NaN/Inf in foreign function call (arg 1)\n",
        "Error in corFactor.corStruct(object) : \n",
        "  NA/NaN/Inf in foreign function call (arg 1)\n",
        "Error in corFactor.corStruct(object) : \n",
        "  NA/NaN/Inf in foreign function call (arg 1)\n",
        "Error in corFactor.corStruct(object) : \n",
        "  NA/NaN/Inf in foreign function call (arg 1)\n",
        "Error in corFactor.corStruct(object) : \n",
        "  NA/NaN/Inf in foreign function call (arg 1)\n",
        "Error in corFactor.corStruct(object) : \n",
        "  NA/NaN/Inf in foreign function call (arg 1)\n",
        "Error in eigen(val) : infinite or missing values in 'x'\n",
        "Error in corFactor.corStruct(object) : \n",
        "  NA/NaN/Inf in foreign function call (arg 1)\n",
        "Error in corFactor.corStruct(object) : \n",
        "  NA/NaN/Inf in foreign function call (arg 1)\n",
        "Error in corFactor.corStruct(object) : \n",
        "  NA/NaN/Inf in foreign function call (arg 1)\n",
        "Error in corFactor.corStruct(object) : \n",
        "  NA/NaN/Inf in foreign function call (arg 1)\n",
        "Error in corFactor.corStruct(object) : \n",
        "  NA/NaN/Inf in foreign function call (arg 1)\n",
        "Error in corFactor.corStruct(object) : \n",
        "  NA/NaN/Inf in foreign function call (arg 1)\n",
        "Error in gls(log(Ypistils) ~ log(tubes), data = datain, correlation = corPagel(1,  : \n",
        "  false convergence (8)\n",
        "Error in corFactor.corStruct(object) : \n",
        "  NA/NaN/Inf in foreign function call (arg 1)\n",
        "Error in corFactor.corStruct(object) : \n",
        "  NA/NaN/Inf in foreign function call (arg 1)\n",
        "Error in corFactor.corStruct(object) : \n",
        "  NA/NaN/Inf in foreign function call (arg 1)\n",
        "Error in corFactor.corStruct(object) : \n",
        "  NA/NaN/Inf in foreign function call (arg 1)\n",
        "Error in gls(log(Ypistils) ~ log(tubes), data = datain, correlation = corPagel(1,  : \n",
        "  false convergence (8)\n",
        "Error in gls(log(Ypistils) ~ log(tubes), data = datain, correlation = corPagel(1,  : \n",
        "  false convergence (8)\n",
        "Error in corFactor.corStruct(object) : \n",
        "  NA/NaN/Inf in foreign function call (arg 1)\n",
        "Error in eigen(val) : infinite or missing values in 'x'\n",
        "Error in gls(log(Ypistils) ~ log(tubes), data = datain, correlation = corPagel(1,  : \n",
        "  false convergence (8)\n",
        "Error in corFactor.corStruct(object) : \n",
        "  NA/NaN/Inf in foreign function call (arg 1)\n",
        "Error in corFactor.corStruct(object) : \n",
        "  NA/NaN/Inf in foreign function call (arg 1)\n",
        "Error in gls(log(Ypistils) ~ log(tubes), data = datain, correlation = corPagel(1,  : \n",
        "  false convergence (8)\n",
        "Error in gls(log(Ypistils) ~ log(tubes), data = datain, correlation = corPagel(1,  : \n",
        "  false convergence (8)\n",
        "Error in corFactor.corStruct(object) : \n",
        "  NA/NaN/Inf in foreign function call (arg 1)\n",
        "Error in gls(log(Ypistils) ~ log(tubes), data = datain, correlation = corPagel(1,  : \n",
        "  false convergence (8)\n",
        "Error in corFactor.corStruct(object) : \n",
        "  NA/NaN/Inf in foreign function call (arg 1)\n",
        "Error in corFactor.corStruct(object) : \n",
        "  NA/NaN/Inf in foreign function call (arg 1)\n",
        "Error in eigen(val) : infinite or missing values in 'x'\n",
        "Error in gls(log(Ypistils) ~ log(tubes), data = datain, correlation = corPagel(1,  : \n",
        "  false convergence (8)\n",
        "Error in gls(log(Ypistils) ~ log(tubes), data = datain, correlation = corPagel(1,  : \n",
        "  false convergence (8)\n",
        "Error in eigen(val) : infinite or missing values in 'x'\n",
        "Error in eigen(val) : infinite or missing values in 'x'\n",
        "Error in gls(log(Ypistils) ~ log(tubes), data = datain, correlation = corPagel(1,  : \n",
        "  false convergence (8)\n",
        "Error in corFactor.corStruct(object) : \n",
        "  NA/NaN/Inf in foreign function call (arg 1)\n",
        "Error in corFactor.corStruct(object) : \n",
        "  NA/NaN/Inf in foreign function call (arg 1)\n",
        "Error in eigen(val) : infinite or missing values in 'x'\n",
        "Error in eigen(val) : infinite or missing values in 'x'\n",
        "Error in eigen(val) : infinite or missing values in 'x'\n",
        "Error in eigen(val) : infinite or missing values in 'x'\n",
        "Error in corFactor.corStruct(object) : \n",
        "  NA/NaN/Inf in foreign function call (arg 1)\n",
        "Error in corFactor.corStruct(object) : \n",
        "  NA/NaN/Inf in foreign function call (arg 1)\n",
        "Error in gls(log(Ypistils) ~ log(tubes), data = datain, correlation = corPagel(1,  : \n",
        "  false convergence (8)\n",
        "Error in gls(log(Ypistils) ~ log(tubes), data = datain, correlation = corPagel(1,  : \n",
        "  false convergence (8)\n",
        "Error in gls(log(Ypistils) ~ log(tubes), data = datain, correlation = corPagel(1,  : \n",
        "  false convergence (8)\n",
        "Error in gls(log(Ypistils) ~ log(tubes), data = datain, correlation = corPagel(1,  : \n",
        "  false convergence (8)\n",
        "Error in corFactor.corStruct(object) : \n",
        "  NA/NaN/Inf in foreign function call (arg 1)\n",
        "Error in corFactor.corStruct(object) : \n",
        "  NA/NaN/Inf in foreign function call (arg 1)\n",
        "Error in corFactor.corStruct(object) : \n",
        "  NA/NaN/Inf in foreign function call (arg 1)\n",
        "Error in corFactor.corStruct(object) : \n",
        "  NA/NaN/Inf in foreign function call (arg 1)\n",
        "Error in corFactor.corStruct(object) : \n",
        "  NA/NaN/Inf in foreign function call (arg 1)\n",
        "Error in corFactor.corStruct(object) : \n",
        "  NA/NaN/Inf in foreign function call (arg 1)\n",
        "Error in corFactor.corStruct(object) : \n",
        "  NA/NaN/Inf in foreign function call (arg 1)\n",
        "Error in corFactor.corStruct(object) : \n",
        "  NA/NaN/Inf in foreign function call (arg 1)\n",
        "Error in corFactor.corStruct(object) : \n",
        "  NA/NaN/Inf in foreign function call (arg 1)\n",
        "Error in corFactor.corStruct(object) : \n",
        "  NA/NaN/Inf in foreign function call (arg 1)\n",
        "Error in gls(log(Ypistils) ~ log(tubes), data = datain, correlation = corPagel(1,  : \n",
        "  false convergence (8)\n",
        "Error in corFactor.corStruct(object) : \n",
        "  NA/NaN/Inf in foreign function call (arg 1)\n",
        "Error in corFactor.corStruct(object) : \n",
        "  NA/NaN/Inf in foreign function call (arg 1)\n",
        "Error in corFactor.corStruct(object) : \n",
        "  NA/NaN/Inf in foreign function call (arg 1)\n",
        "Error in corFactor.corStruct(object) : \n",
        "  NA/NaN/Inf in foreign function call (arg 1)\n",
        "Error in corFactor.corStruct(object) : \n",
        "  NA/NaN/Inf in foreign function call (arg 1)\n",
        "Error in corFactor.corStruct(object) : \n",
        "  NA/NaN/Inf in foreign function call (arg 1)\n",
        "Error in corFactor.corStruct(object) : \n",
        "  NA/NaN/Inf in foreign function call (arg 1)\n",
        "Error in corFactor.corStruct(object) : \n",
        "  NA/NaN/Inf in foreign function call (arg 1)\n",
        "Error in corFactor.corStruct(object) : \n",
        "  NA/NaN/Inf in foreign function call (arg 1)\n",
        "Error in corFactor.corStruct(object) : \n",
        "  NA/NaN/Inf in foreign function call (arg 1)\n",
        "Error in corFactor.corStruct(object) : \n",
        "  NA/NaN/Inf in foreign function call (arg 1)\n",
        "Error in gls(log(Ypistils) ~ log(tubes), data = datain, correlation = corPagel(1,  : \n",
        "  false convergence (8)\n",
        "Error in corFactor.corStruct(object) : \n",
        "  NA/NaN/Inf in foreign function call (arg 1)\n",
        "Error in gls(log(Ypistils) ~ log(tubes), data = datain, correlation = corPagel(1,  : \n",
        "  false convergence (8)\n",
        "Error in corFactor.corStruct(object) : \n",
        "  NA/NaN/Inf in foreign function call (arg 1)\n",
        "Error in corFactor.corStruct(object) : \n",
        "  NA/NaN/Inf in foreign function call (arg 1)\n",
        "Error in gls(log(Ypistils) ~ log(tubes), data = datain, correlation = corPagel(1,  : \n",
        "  false convergence (8)\n",
        "Error in corFactor.corStruct(object) : \n",
        "  NA/NaN/Inf in foreign function call (arg 1)\n",
        "Error in gls(log(Ypistils) ~ log(tubes), data = datain, correlation = corPagel(1,  : \n",
        "  false convergence (8)\n",
        "Error in corFactor.corStruct(object) : \n",
        "  NA/NaN/Inf in foreign function call (arg 1)\n",
        "Error in corFactor.corStruct(object) : \n",
        "  NA/NaN/Inf in foreign function call (arg 1)\n",
        "Error in eigen(val) : infinite or missing values in 'x'\n",
        "Error in eigen(val) : infinite or missing values in 'x'\n",
        "Error in corFactor.corStruct(object) : \n",
        "  NA/NaN/Inf in foreign function call (arg 1)\n",
        "Error in eigen(val) : infinite or missing values in 'x'\n",
        "Error in corFactor.corStruct(object) : \n",
        "  NA/NaN/Inf in foreign function call (arg 1)\n",
        "Error in corFactor.corStruct(object) : \n",
        "  NA/NaN/Inf in foreign function call (arg 1)\n",
        "Error in corFactor.corStruct(object) : \n",
        "  NA/NaN/Inf in foreign function call (arg 1)\n",
        "Error in gls(log(Ypistils) ~ log(tubes), data = datain, correlation = corPagel(1,  : \n",
        "  false convergence (8)\n",
        "Error in gls(log(Ypistils) ~ log(tubes), data = datain, correlation = corPagel(1,  : \n",
        "  false convergence (8)\n",
        "Error in corFactor.corStruct(object) : \n",
        "  NA/NaN/Inf in foreign function call (arg 1)\n",
        "Error in corFactor.corStruct(object) : \n",
        "  NA/NaN/Inf in foreign function call (arg 1)\n",
        "Error in corFactor.corStruct(object) : \n",
        "  NA/NaN/Inf in foreign function call (arg 1)\n",
        "Error in corFactor.corStruct(object) : \n",
        "  NA/NaN/Inf in foreign function call (arg 1)\n",
        "Error in corFactor.corStruct(object) : \n",
        "  NA/NaN/Inf in foreign function call (arg 1)\n",
        "Error in corFactor.corStruct(object) : \n",
        "  NA/NaN/Inf in foreign function call (arg 1)\n",
        "Error in corFactor.corStruct(object) : \n",
        "  NA/NaN/Inf in foreign function call (arg 1)\n",
        "Error in corFactor.corStruct(object) : \n",
        "  NA/NaN/Inf in foreign function call (arg 1)\n",
        "Error in gls(log(Ypistils) ~ log(tubes), data = datain, correlation = corPagel(1,  : \n",
        "  false convergence (8)\n",
        "Error in corFactor.corStruct(object) : \n",
        "  NA/NaN/Inf in foreign function call (arg 1)\n",
        "Error in corFactor.corStruct(object) : \n",
        "  NA/NaN/Inf in foreign function call (arg 1)\n",
        "Error in corFactor.corStruct(object) : \n",
        "  NA/NaN/Inf in foreign function call (arg 1)\n",
        "Error in gls(log(Ypistils) ~ log(tubes), data = datain, correlation = corPagel(1,  : \n",
        "  false convergence (8)\n",
        "Error in corFactor.corStruct(object) : \n",
        "  NA/NaN/Inf in foreign function call (arg 1)\n",
        "Error in gls(log(Ypistils) ~ log(tubes), data = datain, correlation = corPagel(1,  : \n",
        "  false convergence (8)\n",
        "Error in corFactor.corStruct(object) : \n",
        "  NA/NaN/Inf in foreign function call (arg 1)\n",
        "Error in corFactor.corStruct(object) : \n",
        "  NA/NaN/Inf in foreign function call (arg 1)\n",
        "Error in gls(log(Ypistils) ~ log(tubes), data = datain, correlation = corPagel(1,  : \n",
        "  false convergence (8)\n",
        "Error in eigen(val) : infinite or missing values in 'x'\n",
        "Error in corFactor.corStruct(object) : \n",
        "  NA/NaN/Inf in foreign function call (arg 1)\n",
        "Error in corFactor.corStruct(object) : \n",
        "  NA/NaN/Inf in foreign function call (arg 1)\n",
        "Error in gls(log(Ypistils) ~ log(tubes), data = datain, correlation = corPagel(1,  : \n",
        "  false convergence (8)\n",
        "Error in gls(log(Ypistils) ~ log(tubes), data = datain, correlation = corPagel(1,  : \n",
        "  false convergence (8)\n",
        "Error in eigen(val) : infinite or missing values in 'x'\n",
        "Error in corFactor.corStruct(object) : \n",
        "  NA/NaN/Inf in foreign function call (arg 1)\n",
        "Error in corFactor.corStruct(object) : \n",
        "  NA/NaN/Inf in foreign function call (arg 1)\n",
        "Error in corFactor.corStruct(object) : \n",
        "  NA/NaN/Inf in foreign function call (arg 1)\n",
        "Error in gls(log(Ypistils) ~ log(tubes), data = datain, correlation = corPagel(1,  : \n",
        "  false convergence (8)\n",
        "Error in corFactor.corStruct(object) : \n",
        "  NA/NaN/Inf in foreign function call (arg 1)\n",
        "Error in gls(log(Ypistils) ~ log(tubes), data = datain, correlation = corPagel(1,  : \n",
        "  false convergence (8)\n",
        "Error in eigen(val) : infinite or missing values in 'x'\n",
        "Error in corFactor.corStruct(object) : \n",
        "  NA/NaN/Inf in foreign function call (arg 1)\n",
        "Error in corFactor.corStruct(object) : \n",
        "  NA/NaN/Inf in foreign function call (arg 1)\n",
        "Error in eigen(val) : infinite or missing values in 'x'\n",
        "Error in corFactor.corStruct(object) : \n",
        "  NA/NaN/Inf in foreign function call (arg 1)\n",
        "Error in corFactor.corStruct(object) : \n",
        "  NA/NaN/Inf in foreign function call (arg 1)\n",
        "Error in corFactor.corStruct(object) : \n",
        "  NA/NaN/Inf in foreign function call (arg 1)\n",
        "Error in corFactor.corStruct(object) : \n",
        "  NA/NaN/Inf in foreign function call (arg 1)\n",
        "Error in corFactor.corStruct(object) : \n",
        "  NA/NaN/Inf in foreign function call (arg 1)\n"
       ]
      }
     ],
     "prompt_number": 318
    },
    {
     "cell_type": "code",
     "collapsed": false,
     "input": [
      "%%R\n",
      "summary(fitlambda)"
     ],
     "language": "python",
     "metadata": {},
     "outputs": [
      {
       "metadata": {},
       "output_type": "display_data",
       "text": [
        "Generalized least squares fit by maximum likelihood\n",
        "  Model: log(Ypistils) ~ log(pollen) \n",
        "  Data: datain \n",
        "       AIC      BIC   logLik\n",
        "  35.10339 41.43747 -13.5517\n",
        "\n",
        "Correlation Structure: corPagel\n",
        " Formula: ~1 \n",
        " Parameter estimate(s):\n",
        "   lambda \n",
        "0.4897156 \n",
        "\n",
        "Coefficients:\n",
        "                 Value Std.Error   t-value p-value\n",
        "(Intercept) -2.0987673 0.7284545 -2.881123  0.0068\n",
        "log(pollen)  0.3981753 0.0857399  4.643989  0.0000\n",
        "\n",
        " Correlation: \n",
        "            (Intr)\n",
        "log(pollen) -0.984\n",
        "\n",
        "Standardized residuals:\n",
        "        Min          Q1         Med          Q3         Max \n",
        "-2.14219715 -0.64328375 -0.07802176  0.80879467  1.52623177 \n",
        "\n",
        "Residual standard error: 0.3834669 \n",
        "Degrees of freedom: 36 total; 34 residual\n"
       ]
      }
     ],
     "prompt_number": 29
    },
    {
     "cell_type": "code",
     "collapsed": false,
     "input": [
      "%%R -w 300 -h 300 -u px\n",
      "plot(Ypistils~tubes)"
     ],
     "language": "python",
     "metadata": {},
     "outputs": [
      {
       "metadata": {},
       "output_type": "display_data",
       "png": "[encoded data removed]"
      }
     ],
     "prompt_number": 30
    },
    {
     "cell_type": "code",
     "collapsed": false,
     "input": [
      "%%R\n",
      "summary(fitnone)"
     ],
     "language": "python",
     "metadata": {},
     "outputs": [
      {
       "metadata": {},
       "output_type": "display_data",
       "text": [
        "Generalized least squares fit by REML\n",
        "  Model: log(Ypistils) ~ log(pollen) \n",
        "  Data: datain \n",
        "       AIC      BIC    logLik\n",
        "  41.35998 45.93906 -17.67999\n",
        "\n",
        "Coefficients:\n",
        "               Value Std.Error   t-value p-value\n",
        "(Intercept) -2.71433 0.7451231 -3.642794   9e-04\n",
        "log(pollen)  0.47232 0.0890749  5.302503   0e+00\n",
        "\n",
        " Correlation: \n",
        "            (Intr)\n",
        "log(pollen) -0.997\n",
        "\n",
        "Standardized residuals:\n",
        "        Min          Q1         Med          Q3         Max \n",
        "-2.37331340 -0.60300711 -0.02213371  0.92650575  1.41648332 \n",
        "\n",
        "Residual standard error: 0.370263 \n",
        "Degrees of freedom: 36 total; 34 residual\n"
       ]
      }
     ],
     "prompt_number": 31
    },
    {
     "cell_type": "code",
     "collapsed": false,
     "input": [
      "%%R -w 800 -h 300 -u px\n",
      "\n",
      "#png(\"inter_pisttubeparam.png\", width=1000, height=300, res=92)\n",
      "par(mfrow=c(1,3))\n",
      "hist(lambs, col='grey', main='phylogenetic signal', cex.axis=1.5, cex.main=2, cex.lab=2)\n",
      "hist(slopes, col='pink', main='coefficient', cex.axis=1.5, cex.main=2, cex.lab=2)\n",
      "#hist(ints, col='lightblue', main='intercepts')\n",
      "hist(c(summary(fitnone)$AIC,aics), col='gray30', main='AIC scores', cex.axis=1.5, cex.main=2, cex.lab=2)\n",
      "abline(v=summary(fitnone)$AIC, lwd=3, col='red')\n",
      "#dev.off()"
     ],
     "language": "python",
     "metadata": {},
     "outputs": [
      {
       "metadata": {},
       "output_type": "display_data",
       "png": "[encoded data removed]"
      }
     ],
     "prompt_number": 33
    },
    {
     "cell_type": "code",
     "collapsed": false,
     "input": [
      "%%R -w 300 -h 300 -u px\n",
      "\n",
      "#svg(\"inter_pisttube.svg\")\n",
      "## raw data points\n",
      "plot(log(Ypistils) ~ log(tubes),\n",
      "     pch=20,cex=2,\n",
      "     xlab=\"tube length (log mm)\",\n",
      "     ylab=\"pistil length (log mm)\")\n",
      "\n",
      "## 95% CI of fit w/ phylo correction\n",
      "abline(a=ints[which(slopes %in% min(slopes))],\n",
      "       b=min(slopes),\n",
      "       lty=1, lwd=5, col='lightblue')\n",
      "abline(a=ints[which(slopes %in% max(slopes))],\n",
      "       b=max(slopes),\n",
      "       lty=1, lwd=5, col='lightblue')\n",
      "\n",
      "## fit w/o phylo correction\n",
      "abline(a=fitnone$coefficients[1],\n",
      "       b=fitnone$coefficients[2],\n",
      "       lty=1, lwd=5, col='red')\n",
      "\n",
      "## save SVG\n",
      "#dev.off()"
     ],
     "language": "python",
     "metadata": {},
     "outputs": [
      {
       "metadata": {},
       "output_type": "display_data",
       "png": "[encoded data removed]"
      }
     ],
     "prompt_number": 34
    },
    {
     "cell_type": "code",
     "collapsed": false,
     "input": [
      "%%R\n",
      "summary(lm(log(Ypistils)~log(tubes)))"
     ],
     "language": "python",
     "metadata": {},
     "outputs": [
      {
       "metadata": {},
       "output_type": "display_data",
       "text": [
        "\n",
        "Call:\n",
        "lm(formula = log(Ypistils) ~ log(tubes))\n",
        "\n",
        "Residuals:\n",
        "     Min       1Q   Median       3Q      Max \n",
        "-0.60584 -0.14532 -0.03768  0.17649  0.97044 \n",
        "\n",
        "Coefficients:\n",
        "            Estimate Std. Error t value Pr(>|t|)    \n",
        "(Intercept) -0.44872    0.22979  -1.953   0.0591 .  \n",
        "log(tubes)   0.59034    0.07909   7.464 1.16e-08 ***\n",
        "---\n",
        "Signif. codes:  0 \u2018***\u2019 0.001 \u2018**\u2019 0.01 \u2018*\u2019 0.05 \u2018.\u2019 0.1 \u2018 \u2019 1\n",
        "\n",
        "Residual standard error: 0.3081 on 34 degrees of freedom\n",
        "Multiple R-squared:  0.621,\tAdjusted R-squared:  0.6099 \n",
        "F-statistic: 55.71 on 1 and 34 DF,  p-value: 1.164e-08\n",
        "\n"
       ]
      }
     ],
     "prompt_number": 35
    },
    {
     "cell_type": "code",
     "collapsed": false,
     "input": [
      "%%R -n\n",
      "\n",
      "## perform over a posterior sample of trees\n",
      "ints <- c()\n",
      "slopes <- c()\n",
      "lambs <- c()\n",
      "aics <- c()\n",
      "\n",
      "for (tree in prunetrees) {\n",
      "    pollen  <- traits[tree$tip.label,5]   ## pollen vol from Yang 2004\n",
      "    tubes   <- traits[tree$tip.label,11]  ## cor tubes from Eaton 2012\n",
      "    beaks   <- traits[tree$tip.label,12]  ## beaks from Eaton 2012\n",
      "    Ypistils <- traits[tree$tip.label,3]  ## pistils from Yang 2004\n",
      "    Epistils <- tubes+beaks               ## pistils from Eaton 2012 \n",
      "\n",
      "    datain <- data.frame(pollen,tubes,beaks,Ypistils,Epistils)\n",
      "    rownames(datain) <- tree$tip.label\n",
      "\n",
      "    ## here I use a 'try' statement b/c it seems to fail \n",
      "    ## on a few trees if there are nearly zero-length branches\n",
      "    fitlambda <- try(gls(log(Ypistils)~log(1+beaks),\n",
      "                         data=datain,\n",
      "                         correlation=corPagel(1,tree,fixed=FALSE),\n",
      "                         method=\"ML\"));\n",
      "    \n",
      "    if(class(fitlambda) != \"try-error\") {\n",
      "        lambda <- fitlambda$modelStruct[[1]][[1]]\n",
      "        if (lambda > 0 & lambda < 1) {\n",
      "            ints <- c(ints,fitlambda$coefficients[[1]])\n",
      "            slopes <- c(slopes, fitlambda$coefficients[[2]])\n",
      "            lambs <- c(lambs, fitlambda$modelStruct[[1]][[1]])\n",
      "            aics  <- c(aics, summary(fitlambda)$AIC)\n",
      "            }\n",
      "    }\n",
      "}\n",
      "\n",
      "## fit the model without phylogenetic data\n",
      "fitnone <- gls(log(Ypistils)~log(1+beaks), data=datain)"
     ],
     "language": "python",
     "metadata": {},
     "outputs": [
      {
       "metadata": {},
       "output_type": "display_data",
       "text": [
        "Error in gls(log(Ypistils) ~ log(1 + beaks), data = datain, correlation = corPagel(1,  : \n",
        "  false convergence (8)\n",
        "In addition: Warning messages:\n",
        "1: In plot.window(...) : \"title\" is not a graphical parameter\n",
        "2: In plot.xy(xy, type, ...) : \"title\" is not a graphical parameter\n",
        "3: In axis(side = side, at = at, labels = labels, ...) :\n",
        "  \"title\" is not a graphical parameter\n",
        "4: In axis(side = side, at = at, labels = labels, ...) :\n",
        "  \"title\" is not a graphical parameter\n",
        "5: In box(...) : \"title\" is not a graphical parameter\n",
        "6: In title(...) : \"title\" is not a graphical parameter\n",
        "Error in eigen(val) : infinite or missing values in 'x'\n",
        "Error in corFactor.corStruct(object) : \n",
        "  NA/NaN/Inf in foreign function call (arg 1)\n"
       ]
      }
     ],
     "prompt_number": 36
    },
    {
     "cell_type": "code",
     "collapsed": false,
     "input": [
      "%%R -w 300 -h 300 -u px\n",
      "plot(log(Ypistils),log(1+beaks))"
     ],
     "language": "python",
     "metadata": {},
     "outputs": [
      {
       "metadata": {},
       "output_type": "display_data",
       "png": "[encoded data removed]"
      }
     ],
     "prompt_number": 38
    },
    {
     "cell_type": "code",
     "collapsed": false,
     "input": [
      "%%R\n",
      "summary(fitlambda)"
     ],
     "language": "python",
     "metadata": {},
     "outputs": [
      {
       "metadata": {},
       "output_type": "display_data",
       "text": [
        "Generalized least squares fit by maximum likelihood\n",
        "  Model: log(Ypistils) ~ log(1 + beaks) \n",
        "  Data: datain \n",
        "       AIC      BIC    logLik\n",
        "  45.46331 51.79739 -18.73166\n",
        "\n",
        "Correlation Structure: corPagel\n",
        " Formula: ~1 \n",
        " Parameter estimate(s):\n",
        "   lambda \n",
        "0.4630563 \n",
        "\n",
        "Coefficients:\n",
        "                   Value  Std.Error  t-value p-value\n",
        "(Intercept)    0.9721260 0.17343826 5.605026  0.0000\n",
        "log(1 + beaks) 0.2022056 0.07241645 2.792261  0.0085\n",
        "\n",
        " Correlation: \n",
        "               (Intr)\n",
        "log(1 + beaks) -0.533\n",
        "\n",
        "Standardized residuals:\n",
        "       Min         Q1        Med         Q3        Max \n",
        "-1.4958082 -0.8827930 -0.1023747  0.6922734  2.1963858 \n",
        "\n",
        "Residual standard error: 0.4394382 \n",
        "Degrees of freedom: 36 total; 34 residual\n"
       ]
      }
     ],
     "prompt_number": 39
    },
    {
     "cell_type": "code",
     "collapsed": false,
     "input": [
      "%%R -w 800 -h 400 -u px\n",
      "\n",
      "#png(\"inter_pistbeakparam.png\", width=1000, height=300, res=92)\n",
      "par(mfrow=c(1,3))\n",
      "hist(lambs, col='grey', main='phylogenetic signal', cex.axis=1.5, cex.main=2, cex.lab=2)\n",
      "hist(slopes, col='pink', main='coefficient', cex.axis=1.5, cex.main=2, cex.lab=2)\n",
      "#hist(ints, col='lightblue', main='intercepts')\n",
      "hist(c(summary(fitnone)$AIC,aics), col='gray30', main='AIC scores', cex.axis=1.5, cex.main=2, cex.lab=2)\n",
      "abline(v=summary(fitnone)$AIC, lwd=3, col='red')\n",
      "#dev.off()"
     ],
     "language": "python",
     "metadata": {},
     "outputs": [
      {
       "metadata": {},
       "output_type": "display_data",
       "png": "[encoded data removed]"
      }
     ],
     "prompt_number": 41
    },
    {
     "cell_type": "code",
     "collapsed": false,
     "input": [
      "%%R -w 300 -h 300 -u px\n",
      "\n",
      "#svg(\"inter_pistbeak.svg\")\n",
      "## raw data points\n",
      "plot(log(Ypistils) ~ log(1+beaks),\n",
      "     pch=20,cex=2,\n",
      "     xlab=\"beak length (log mm)\",\n",
      "     ylab=\"pistil length (log mm)\")\n",
      "\n",
      "## 95% CI of fit w/ phylo correction\n",
      "abline(a=ints[which(slopes %in% min(slopes))],\n",
      "       b=min(slopes),\n",
      "       lty=1, lwd=5, col='lightblue')\n",
      "abline(a=ints[which(slopes %in% max(slopes))],\n",
      "       b=max(slopes),\n",
      "       lty=1, lwd=5, col='lightblue')\n",
      "\n",
      "## fit w/o phylo correction\n",
      "abline(a=fitnone$coefficients[1],\n",
      "       b=fitnone$coefficients[2],\n",
      "       lty=1, lwd=5, col='red')\n",
      "\n",
      "## save SVG\n",
      "#dev.off()"
     ],
     "language": "python",
     "metadata": {},
     "outputs": [
      {
       "metadata": {},
       "output_type": "display_data",
       "png": "[encoded data removed]"
      }
     ],
     "prompt_number": 42
    },
    {
     "cell_type": "markdown",
     "metadata": {},
     "source": [
      "Tube ~ beak"
     ]
    },
    {
     "cell_type": "code",
     "collapsed": false,
     "input": [
      "%%R -n\n",
      "\n",
      "## perform over a posterior sample of trees\n",
      "ints <- c()\n",
      "slopes <- c()\n",
      "lambs <- c()\n",
      "aics <- c()\n",
      "\n",
      "for (tree in prunetrees) {\n",
      "    pollen  <- traits[tree$tip.label,5]   ## pollen vol from Yang 2004\n",
      "    tubes   <- traits[tree$tip.label,11]  ## cor tubes from Eaton 2012\n",
      "    beaks   <- traits[tree$tip.label,12]  ## beaks from Eaton 2012\n",
      "    Ypistils <- traits[tree$tip.label,3]  ## pistils from Yang 2004\n",
      "    Epistils <- tubes+beaks               ## pistils from Eaton 2012 \n",
      "\n",
      "    datain <- data.frame(pollen,tubes,beaks,Ypistils,Epistils)\n",
      "    rownames(datain) <- tree$tip.label\n",
      "\n",
      "    ## here I use a 'try' statement b/c it seems to fail \n",
      "    ## on a few trees if there are nearly zero-length branches\n",
      "    fitlambda <- try(gls(log(tubes)~log(1+beaks),\n",
      "                         data=datain,\n",
      "                         correlation=corPagel(1,tree,fixed=FALSE),\n",
      "                         method=\"ML\"));\n",
      "    \n",
      "    if(class(fitlambda) != \"try-error\") {\n",
      "        lambda <- fitlambda$modelStruct[[1]][[1]]\n",
      "        if (lambda > 0 & lambda < 1) {\n",
      "            ints <- c(ints,fitlambda$coefficients[[1]])\n",
      "            slopes <- c(slopes, fitlambda$coefficients[[2]])\n",
      "            lambs <- c(lambs, fitlambda$modelStruct[[1]][[1]])\n",
      "            aics  <- c(aics, summary(fitlambda)$AIC)\n",
      "            }\n",
      "    }\n",
      "}\n",
      "\n",
      "## fit the model without phylogenetic data\n",
      "fitnone <- gls(log(tubes)~log(1+beaks), data=datain)"
     ],
     "language": "python",
     "metadata": {},
     "outputs": [
      {
       "metadata": {},
       "output_type": "display_data",
       "text": [
        "Error in gls(log(tubes) ~ log(1 + beaks), data = datain, correlation = corPagel(1,  : \n",
        "  false convergence (8)\n",
        "Error in corFactor.corStruct(object) : \n",
        "  NA/NaN/Inf in foreign function call (arg 1)\n",
        "Error in corFactor.corStruct(object) : \n",
        "  NA/NaN/Inf in foreign function call (arg 1)\n"
       ]
      }
     ],
     "prompt_number": 43
    },
    {
     "cell_type": "code",
     "collapsed": false,
     "input": [
      "%%R\n",
      "summary(fitlambda)"
     ],
     "language": "python",
     "metadata": {},
     "outputs": [
      {
       "metadata": {},
       "output_type": "display_data",
       "text": [
        "Generalized least squares fit by maximum likelihood\n",
        "  Model: log(tubes) ~ log(1 + beaks) \n",
        "  Data: datain \n",
        "       AIC      BIC    logLik\n",
        "  65.18488 71.51896 -28.59244\n",
        "\n",
        "Correlation Structure: corPagel\n",
        " Formula: ~1 \n",
        " Parameter estimate(s):\n",
        "   lambda \n",
        "0.5368919 \n",
        "\n",
        "Coefficients:\n",
        "                   Value  Std.Error   t-value p-value\n",
        "(Intercept)    2.4748060 0.24053000 10.288970  0.0000\n",
        "log(1 + beaks) 0.2757303 0.09513479  2.898312  0.0065\n",
        "\n",
        " Correlation: \n",
        "               (Intr)\n",
        "log(1 + beaks) -0.509\n",
        "\n",
        "Standardized residuals:\n",
        "       Min         Q1        Med         Q3        Max \n",
        "-1.4747407 -0.8511438 -0.1301792  0.7231753  1.8428313 \n",
        "\n",
        "Residual standard error: 0.5908063 \n",
        "Degrees of freedom: 36 total; 34 residual\n"
       ]
      }
     ],
     "prompt_number": 44
    },
    {
     "cell_type": "code",
     "collapsed": false,
     "input": [
      "%%R -w 800 -h 400 -u px\n",
      "\n",
      "#png(\"inter_pistbeakparam.png\", width=1000, height=300, res=92)\n",
      "par(mfrow=c(1,3))\n",
      "hist(lambs, col='grey', main='phylogenetic signal', cex.axis=1.5, cex.main=2, cex.lab=2)\n",
      "hist(slopes, col='pink', main='coefficient', cex.axis=1.5, cex.main=2, cex.lab=2)\n",
      "#hist(ints, col='lightblue', main='intercepts')\n",
      "hist(c(summary(fitnone)$AIC,aics), col='gray30', main='AIC scores', cex.axis=1.5, cex.main=2, cex.lab=2)\n",
      "abline(v=summary(fitnone)$AIC, lwd=3, col='red')\n",
      "#dev.off()"
     ],
     "language": "python",
     "metadata": {},
     "outputs": [
      {
       "metadata": {},
       "output_type": "display_data",
       "png": "[encoded data removed]"
      }
     ],
     "prompt_number": 45
    },
    {
     "cell_type": "markdown",
     "metadata": {},
     "source": [
      "### Summary  \n",
      "\n",
      "Pollen volume and pistil lengths are highly correlated across the _Pedicularis_ phylogeny, and correcting for phylogenetic non-independence only slightly weakens their correlation, but provides a much better fit to the data. \n",
      "\n",
      "#### non-phylogenetic model fit"
     ]
    },
    {
     "cell_type": "code",
     "collapsed": false,
     "input": [
      "%%R\n",
      "summary(fitnone)"
     ],
     "language": "python",
     "metadata": {},
     "outputs": [
      {
       "metadata": {},
       "output_type": "display_data",
       "text": [
        "Generalized least squares fit by REML\n",
        "  Model: log(Epistils) ~ log(pollen) \n",
        "  Data: data.frame(Epistils, pollen) \n",
        "       AIC      BIC    logLik\n",
        "  71.71313 76.29221 -32.85657\n",
        "\n",
        "Coefficients:\n",
        "                 Value Std.Error   t-value p-value\n",
        "(Intercept) -1.3193546 1.1643512 -1.133124  0.2651\n",
        "log(pollen)  0.5187951 0.1391911  3.727215  0.0007\n",
        "\n",
        " Correlation: \n",
        "            (Intr)\n",
        "log(pollen) -0.997\n",
        "\n",
        "Standardized residuals:\n",
        "        Min          Q1         Med          Q3         Max \n",
        "-2.26274008 -0.57283672 -0.02888949  0.72002426  1.58353686 \n",
        "\n",
        "Residual standard error: 0.5785839 \n",
        "Degrees of freedom: 36 total; 34 residual\n"
       ]
      }
     ],
     "prompt_number": 19
    },
    {
     "cell_type": "markdown",
     "metadata": {},
     "source": [
      "#### phylogenetic model fit"
     ]
    },
    {
     "cell_type": "code",
     "collapsed": false,
     "input": [
      "%%R\n",
      "summary(fitlambda)"
     ],
     "language": "python",
     "metadata": {},
     "outputs": [
      {
       "metadata": {},
       "output_type": "display_data",
       "text": [
        "Generalized least squares fit by maximum likelihood\n",
        "  Model: log(Epistils) ~ log(pollen) \n",
        "  Data: data.frame(Epistils, pollen) \n",
        "       AIC      BIC    logLik\n",
        "  64.98197 71.31604 -28.49098\n",
        "\n",
        "Correlation Structure: corPagel\n",
        " Formula: ~1 \n",
        " Parameter estimate(s):\n",
        "   lambda \n",
        "0.6937748 \n",
        "\n",
        "Coefficients:\n",
        "                 Value Std.Error    t-value p-value\n",
        "(Intercept) -0.2640516 1.0827519 -0.2438708  0.8088\n",
        "log(pollen)  0.3935353 0.1263747  3.1140344  0.0037\n",
        "\n",
        " Correlation: \n",
        "            (Intr)\n",
        "log(pollen) -0.975\n",
        "\n",
        "Standardized residuals:\n",
        "       Min         Q1        Med         Q3        Max \n",
        "-1.9668136 -0.6272757 -0.1385904  0.7990153  1.5535680 \n",
        "\n",
        "Residual standard error: 0.624246 \n",
        "Degrees of freedom: 36 total; 34 residual\n"
       ]
      }
     ],
     "prompt_number": 20
    },
    {
     "cell_type": "markdown",
     "metadata": {},
     "source": [
      "----------------------    \n",
      "\n",
      "# Within-species example"
     ]
    },
    {
     "cell_type": "code",
     "collapsed": false,
     "input": [
      "%%R -w 700 -h 300 -u px\n",
      "\n",
      "poll <- log(DF[,13])\n",
      "pist <- log(DF[,6]+DF[,7])\n",
      "tube <- log(DF[,6])\n",
      "beak <- log(DF[,7])\n",
      "angle <- log(DF[,10])\n",
      "\n",
      "#par(mfrow=c(1,3))\n",
      "\n",
      "#####################\n",
      "fitnone <- gls(pist~poll)\n",
      "fittree <- gls(pist~poll,\n",
      "               correlation=corPagel(1,Ctree, fixed=TRUE),\n",
      "               method=\"ML\")\n",
      "#fitlambda <- gls(poll~pist,\n",
      "#                 correlation=corPagel(1,Ctree,fixed=FALSE),\n",
      "#                 method=\"ML\")\n",
      "\n",
      "svg(\"intra_pollpist.svg\")\n",
      "plot(pist~poll, pch=20, cex=2, main=fitlambda$modelStruct[[1]][[1]])\n",
      "abline(a=fitnone$coefficients[1],\n",
      "       b=fitnone$coefficients[2],\n",
      "       lty=1, lwd=2, col='red')\n",
      "abline(a=fittree$coefficients[1],\n",
      "       b=fittree$coefficients[2],\n",
      "       lty=1, lwd=5, col='lightblue')\n",
      "dev.off()\n",
      "#abline(a=fitlambda$coefficients[1],\n",
      "#       b=fitlambda$coefficients[2],\n",
      "#       lty=2, lwd=2, col='green')\n",
      "\n",
      "######################\n",
      "fitnone <- gls(pist~tube)\n",
      "fittree <- gls(pist~tube,\n",
      "               correlation=corPagel(1,Ctree, fixed=TRUE),\n",
      "               method=\"ML\")\n",
      "#fitlambda <- gls(poll~tube,\n",
      "#                 correlation=corPagel(1,Ctree,fixed=FALSE),\n",
      "#                 method=\"ML\")\n",
      "\n",
      "svg(\"intra_tubepist.svg\")\n",
      "plot(pist~tube, pch=20, cex=2, main=fitlambda$modelStruct[[1]][[1]])\n",
      "abline(a=fitnone$coefficients[1],\n",
      "       b=fitnone$coefficients[2],\n",
      "       lty=1, lwd=5, col='red')\n",
      "abline(a=fittree$coefficients[1],\n",
      "       b=fittree$coefficients[2],\n",
      "       lty=1, lwd=5, col='lightblue')\n",
      "dev.off()\n",
      "#abline(a=fitlambda$coefficients[1],\n",
      "#       b=fitlambda$coefficients[2],\n",
      "#       lty=2, lwd=2, col='green')\n",
      "\n",
      "#######################\n",
      "\n",
      "fitnone <- gls(pist~beak)\n",
      "fittree <- gls(pist~beak,\n",
      "               correlation=corPagel(1,Ctree, fixed=TRUE),\n",
      "               method=\"ML\")\n",
      "#fitlambda <- gls(poll~beak,\n",
      "#                 correlation=corPagel(1,Ctree,fixed=FALSE),\n",
      "#                 method=\"ML\")\n",
      "\n",
      "svg(\"intra_beakpist.svg\")\n",
      "plot(pist~beak, pch=20, cex=2, main=fitlambda$modelStruct[[1]][[1]])\n",
      "abline(a=fitnone$coefficients[1],\n",
      "       b=fitnone$coefficients[2],\n",
      "       lty=1, lwd=5, col='red')\n",
      "abline(a=fittree$coefficients[1],\n",
      "       b=fittree$coefficients[2],\n",
      "       lty=1, lwd=5, col='lightblue')\n",
      "dev.off()\n",
      "#abline(a=fitlambda$coefficients[1],\n",
      "#       b=fitlambda$coefficients[2],\n",
      "#       lty=2, lwd=2, col='green')"
     ],
     "language": "python",
     "metadata": {},
     "outputs": [
      {
       "metadata": {},
       "output_type": "display_data",
       "text": [
        "png \n",
        "  2 \n"
       ]
      }
     ],
     "prompt_number": 372
    },
    {
     "cell_type": "markdown",
     "metadata": {},
     "source": [
      "### non-phylogenetic regression"
     ]
    },
    {
     "cell_type": "code",
     "collapsed": false,
     "input": [
      "%%R -w 300 -h 300 -u px\n",
      "plot(pist~poll, pch=20, cex=2)\n",
      "summary(lm(pist~poll))"
     ],
     "language": "python",
     "metadata": {},
     "outputs": [
      {
       "metadata": {},
       "output_type": "display_data",
       "text": [
        "\n",
        "Call:\n",
        "lm(formula = pist ~ poll)\n",
        "\n",
        "Residuals:\n",
        "     Min       1Q   Median       3Q      Max \n",
        "-0.29681 -0.07465  0.04621  0.07902  0.23434 \n",
        "\n",
        "Coefficients:\n",
        "            Estimate Std. Error t value Pr(>|t|)    \n",
        "(Intercept)  4.07970    0.38360  10.635 8.76e-08 ***\n",
        "poll         0.05011    0.17402   0.288    0.778    \n",
        "---\n",
        "Signif. codes:  0 \u2018***\u2019 0.001 \u2018**\u2019 0.01 \u2018*\u2019 0.05 \u2018.\u2019 0.1 \u2018 \u2019 1\n",
        "\n",
        "Residual standard error: 0.1556 on 13 degrees of freedom\n",
        "Multiple R-squared:  0.006338,\tAdjusted R-squared:  -0.0701 \n",
        "F-statistic: 0.08292 on 1 and 13 DF,  p-value: 0.7779\n",
        "\n"
       ]
      },
      {
       "metadata": {},
       "output_type": "display_data",
       "png": "[encoded data removed]"
      }
     ],
     "prompt_number": 373
    },
    {
     "cell_type": "markdown",
     "metadata": {},
     "source": [
      "### phylo regression"
     ]
    },
    {
     "cell_type": "code",
     "collapsed": false,
     "input": [
      "%%R\n",
      "fittree <- gls(pist~poll,\n",
      "               correlation=corPagel(1,Ctree, fixed=TRUE),\n",
      "               method=\"ML\")\n",
      "summary(fittree)"
     ],
     "language": "python",
     "metadata": {},
     "outputs": [
      {
       "metadata": {},
       "output_type": "display_data",
       "text": [
        "Generalized least squares fit by maximum likelihood\n",
        "  Model: pist ~ poll \n",
        "  Data: NULL \n",
        "        AIC       BIC   logLik\n",
        "  -9.558289 -7.434138 7.779145\n",
        "\n",
        "Correlation Structure: corPagel\n",
        " Formula: ~1 \n",
        " Parameter estimate(s):\n",
        "lambda \n",
        "     1 \n",
        "\n",
        "Coefficients:\n",
        "                Value Std.Error  t-value p-value\n",
        "(Intercept) 2.4313337 0.6657760 3.651880  0.0029\n",
        "poll        0.7465503 0.2821122 2.646288  0.0202\n",
        "\n",
        " Correlation: \n",
        "     (Intr)\n",
        "poll -0.985\n",
        "\n",
        "Standardized residuals:\n",
        "       Min         Q1        Med         Q3        Max \n",
        "-1.8829909  0.1118554  0.8849085  1.2870795  1.9628200 \n",
        "\n",
        "Residual standard error: 0.199437 \n",
        "Degrees of freedom: 15 total; 13 residual\n"
       ]
      }
     ],
     "prompt_number": 374
    },
    {
     "cell_type": "code",
     "collapsed": false,
     "input": [
      "%%R\n",
      "fittree <- gls(pist~tube,\n",
      "               correlation=corPagel(1,Ctree, fixed=TRUE),\n",
      "               method=\"ML\")\n",
      "summary(fittree)"
     ],
     "language": "python",
     "metadata": {},
     "outputs": [
      {
       "metadata": {},
       "output_type": "display_data",
       "text": [
        "Generalized least squares fit by maximum likelihood\n",
        "  Model: pist ~ tube \n",
        "  Data: NULL \n",
        "        AIC       BIC   logLik\n",
        "  -83.47026 -81.34611 44.73513\n",
        "\n",
        "Correlation Structure: corPagel\n",
        " Formula: ~1 \n",
        " Parameter estimate(s):\n",
        "lambda \n",
        "     1 \n",
        "\n",
        "Coefficients:\n",
        "                Value  Std.Error  t-value p-value\n",
        "(Intercept) 0.6054165 0.06863517  8.82079       0\n",
        "tube        0.8834456 0.01685285 52.42113       0\n",
        "\n",
        " Correlation: \n",
        "     (Intr)\n",
        "tube -0.99 \n",
        "\n",
        "Standardized residuals:\n",
        "         Min           Q1          Med           Q3          Max \n",
        "-2.185349231 -1.493432411 -1.125215488  0.001708656  1.336206815 \n",
        "\n",
        "Residual standard error: 0.01697542 \n",
        "Degrees of freedom: 15 total; 13 residual\n"
       ]
      }
     ],
     "prompt_number": 375
    },
    {
     "cell_type": "code",
     "collapsed": false,
     "input": [
      "%%R\n",
      "fittree <- gls(pist~beak,\n",
      "               correlation=corPagel(1,Ctree, fixed=TRUE),\n",
      "               method=\"ML\")\n",
      "summary(fittree)"
     ],
     "language": "python",
     "metadata": {},
     "outputs": [
      {
       "metadata": {},
       "output_type": "display_data",
       "text": [
        "Generalized least squares fit by maximum likelihood\n",
        "  Model: pist ~ beak \n",
        "  Data: NULL \n",
        "       AIC        BIC   logLik\n",
        "  -3.09583 -0.9716795 4.547915\n",
        "\n",
        "Correlation Structure: corPagel\n",
        " Formula: ~1 \n",
        " Parameter estimate(s):\n",
        "lambda \n",
        "     1 \n",
        "\n",
        "Coefficients:\n",
        "               Value Std.Error  t-value p-value\n",
        "(Intercept) 4.133754 0.9591294 4.309902  0.0008\n",
        "beak        0.016080 0.4590241 0.035031  0.9726\n",
        "\n",
        " Correlation: \n",
        "     (Intr)\n",
        "beak -0.989\n",
        "\n",
        "Standardized residuals:\n",
        "       Min         Q1        Med         Q3        Max \n",
        "-1.1217675 -0.1918379  0.2898012  0.4078780  1.0455400 \n",
        "\n",
        "Residual standard error: 0.2473771 \n",
        "Degrees of freedom: 15 total; 13 residual\n"
       ]
      }
     ],
     "prompt_number": 376
    },
    {
     "cell_type": "code",
     "collapsed": false,
     "input": [
      "%%R -w 600 -h 300 -u px\n",
      "par(mfrow=c(1,2))\n",
      "plot(pist~angle, pch=20, cex=2)\n",
      "summary(lm(pist~angle))\n",
      "plot(beak~angle, pch=20, cex=2)\n",
      "summary(lm(beak~angle))"
     ],
     "language": "python",
     "metadata": {},
     "outputs": [
      {
       "metadata": {},
       "output_type": "display_data",
       "text": [
        "\n",
        "Call:\n",
        "lm(formula = beak ~ angle)\n",
        "\n",
        "Residuals:\n",
        "      Min        1Q    Median        3Q       Max \n",
        "-0.127408 -0.066063  0.002148  0.030296  0.177276 \n",
        "\n",
        "Coefficients:\n",
        "            Estimate Std. Error t value Pr(>|t|)    \n",
        "(Intercept)    6.890      1.046   6.590 1.74e-05 ***\n",
        "angle         -1.092      0.232  -4.709 0.000409 ***\n",
        "---\n",
        "Signif. codes:  0 \u2018***\u2019 0.001 \u2018**\u2019 0.01 \u2018*\u2019 0.05 \u2018.\u2019 0.1 \u2018 \u2019 1\n",
        "\n",
        "Residual standard error: 0.1002 on 13 degrees of freedom\n",
        "Multiple R-squared:  0.6304,\tAdjusted R-squared:  0.6019 \n",
        "F-statistic: 22.17 on 1 and 13 DF,  p-value: 0.0004088\n",
        "\n"
       ]
      },
      {
       "metadata": {},
       "output_type": "display_data",
       "png": "[encoded data removed]"
      }
     ],
     "prompt_number": 352
    },
    {
     "cell_type": "code",
     "collapsed": false,
     "input": [
      "%%R -w 600 -h 300 -u px\n",
      "\n",
      "par(mfrow=c(1,3))\n",
      "\n",
      "pist = DF[,6]+DF[,7]\n",
      "contrasts_pollen <- pic(log(DF[,13]), Ctree)\n",
      "contrasts_pistil <- pic(log(pist), Ctree)\n",
      "contrasts_tube   <- pic(log(DF[,6]), Ctree)\n",
      "contrasts_beak   <- pic(log(DF[,7]), Ctree)\n",
      "contrasts_angle   <- pic(log(DF[,10]), Ctree)\n",
      "contrasts_lwidth <- pic(log(DF[,12]), Ctree)\n",
      "\n",
      "Regress_ttpp <- lm(contrasts_pistil~contrasts_pollen-1)\n",
      "plot(contrasts_pistil ~ contrasts_pollen, pch=20, cex=2)\n",
      "abline(Regress_ttpp, lty=2, lwd=2)\n",
      "\n",
      "Regress_ttpp <- lm(contrasts_pistil~contrasts_tube -1)\n",
      "plot(contrasts_pistil ~ contrasts_tube, pch=20, cex=2)\n",
      "abline(Regress_ttpp, lty=2, lwd=2)\n",
      "\n",
      "Regress_ttpp <- lm(contrasts_pistil~contrasts_beak -1)\n",
      "plot(contrasts_pistil ~ contrasts_beak, pch=20, cex=2)\n",
      "abline(Regress_ttpp, lty=2, lwd=2)"
     ],
     "language": "python",
     "metadata": {},
     "outputs": [
      {
       "metadata": {},
       "output_type": "display_data",
       "png": "[encoded data removed]"
      }
     ],
     "prompt_number": 403
    },
    {
     "cell_type": "code",
     "collapsed": false,
     "input": [
      "%%R -w 300 -h 300 -u px\n",
      "Regress_ttpp <- lm(contrasts_angle~contrasts_beak -1)\n",
      "plot(contrasts_angle ~ contrasts_beak, pch=20, cex=2)\n",
      "abline(Regress_ttpp, lty=2, lwd=2)\n",
      "summary(Regress_ttpp)"
     ],
     "language": "python",
     "metadata": {},
     "outputs": [
      {
       "metadata": {},
       "output_type": "display_data",
       "text": [
        "\n",
        "Call:\n",
        "lm(formula = contrasts_angle ~ contrasts_beak - 1)\n",
        "\n",
        "Residuals:\n",
        "     Min       1Q   Median       3Q      Max \n",
        "-0.26509 -0.15213 -0.01500  0.04001  0.15540 \n",
        "\n",
        "Coefficients:\n",
        "               Estimate Std. Error t value Pr(>|t|)    \n",
        "contrasts_beak  -0.8504     0.1734  -4.905 0.000287 ***\n",
        "---\n",
        "Signif. codes:  0 \u2018***\u2019 0.001 \u2018**\u2019 0.01 \u2018*\u2019 0.05 \u2018.\u2019 0.1 \u2018 \u2019 1\n",
        "\n",
        "Residual standard error: 0.1329 on 13 degrees of freedom\n",
        "Multiple R-squared:  0.6492,\tAdjusted R-squared:  0.6222 \n",
        "F-statistic: 24.06 on 1 and 13 DF,  p-value: 0.0002875\n",
        "\n"
       ]
      },
      {
       "metadata": {},
       "output_type": "display_data",
       "png": "[encoded data removed]"
      }
     ],
     "prompt_number": 359
    },
    {
     "cell_type": "code",
     "collapsed": false,
     "input": [
      "%%R -w 300 -h 300 -u px\n",
      "plot(contrasts_tube~contrasts_beak, pch=20, cex=2)\n",
      "Regress_ttpp <- lm(contrasts_tube~contrasts_beak -1)\n",
      "abline(Regress_ttpp, lty=2, lwd=2)\n",
      "summary(Regress_ttpp)"
     ],
     "language": "python",
     "metadata": {},
     "outputs": [
      {
       "metadata": {},
       "output_type": "display_data",
       "text": [
        "\n",
        "Call:\n",
        "lm(formula = contrasts_tube ~ contrasts_beak - 1)\n",
        "\n",
        "Residuals:\n",
        "     Min       1Q   Median       3Q      Max \n",
        "-0.94577 -0.16939  0.00011  0.22769  0.52702 \n",
        "\n",
        "Coefficients:\n",
        "               Estimate Std. Error t value Pr(>|t|)\n",
        "contrasts_beak  -0.1018     0.5176  -0.197    0.847\n",
        "\n",
        "Residual standard error: 0.3967 on 13 degrees of freedom\n",
        "Multiple R-squared:  0.002965,\tAdjusted R-squared:  -0.07373 \n",
        "F-statistic: 0.03866 on 1 and 13 DF,  p-value: 0.8472\n",
        "\n"
       ]
      },
      {
       "metadata": {},
       "output_type": "display_data",
       "png": "[encoded data removed]"
      }
     ],
     "prompt_number": 361
    },
    {
     "cell_type": "code",
     "collapsed": false,
     "input": [],
     "language": "python",
     "metadata": {},
     "outputs": []
    },
    {
     "cell_type": "code",
     "collapsed": false,
     "input": [
      "%%R\n",
      "summary(lm(contrasts_pollen~contrasts_pistil -1))"
     ],
     "language": "python",
     "metadata": {},
     "outputs": [
      {
       "metadata": {},
       "output_type": "display_data",
       "text": [
        "\n",
        "Call:\n",
        "lm(formula = contrasts_pollen ~ contrasts_pistil - 1)\n",
        "\n",
        "Residuals:\n",
        "     Min       1Q   Median       3Q      Max \n",
        "-0.36448 -0.10023 -0.02265  0.15588  0.49390 \n",
        "\n",
        "Coefficients:\n",
        "                 Estimate Std. Error t value Pr(>|t|)  \n",
        "contrasts_pistil   0.4689     0.1772   2.646   0.0202 *\n",
        "---\n",
        "Signif. codes:  0 \u2018***\u2019 0.001 \u2018**\u2019 0.01 \u2018*\u2019 0.05 \u2018.\u2019 0.1 \u2018 \u2019 1\n",
        "\n",
        "Residual standard error: 0.2248 on 13 degrees of freedom\n",
        "Multiple R-squared:  0.3501,\tAdjusted R-squared:  0.3001 \n",
        "F-statistic: 7.003 on 1 and 13 DF,  p-value: 0.02015\n",
        "\n"
       ]
      }
     ],
     "prompt_number": 30
    },
    {
     "cell_type": "code",
     "collapsed": false,
     "input": [
      "%%R -w 300 -h 300 -u px\n",
      "plot(contrasts_tube~contrasts_lwidth, pch=20, cex=2)\n",
      "Regress_ttpp <- lm(contrasts_tube~contrasts_lwidth -1)\n",
      "abline(Regress_ttpp, lty=2, lwd=2)\n",
      "summary(Regress_ttpp)"
     ],
     "language": "python",
     "metadata": {},
     "outputs": [
      {
       "metadata": {},
       "output_type": "display_data",
       "text": [
        "\n",
        "Call:\n",
        "lm(formula = contrasts_tube ~ contrasts_lwidth - 1)\n",
        "\n",
        "Residuals:\n",
        "     Min       1Q   Median       3Q      Max \n",
        "-0.63548 -0.19424  0.01497  0.10915  0.53672 \n",
        "\n",
        "Coefficients:\n",
        "                 Estimate Std. Error t value Pr(>|t|)   \n",
        "contrasts_lwidth   1.2485     0.4111   3.037  0.00953 **\n",
        "---\n",
        "Signif. codes:  0 \u2018***\u2019 0.001 \u2018**\u2019 0.01 \u2018*\u2019 0.05 \u2018.\u2019 0.1 \u2018 \u2019 1\n",
        "\n",
        "Residual standard error: 0.3038 on 13 degrees of freedom\n",
        "Multiple R-squared:  0.4151,\tAdjusted R-squared:  0.3701 \n",
        "F-statistic: 9.225 on 1 and 13 DF,  p-value: 0.009532\n",
        "\n"
       ]
      },
      {
       "metadata": {},
       "output_type": "display_data",
       "png": "[encoded data removed]"
      }
     ],
     "prompt_number": 404
    },
    {
     "cell_type": "code",
     "collapsed": false,
     "input": [
      "%%R\n",
      "summary(fittree)"
     ],
     "language": "python",
     "metadata": {},
     "outputs": [
      {
       "metadata": {},
       "output_type": "display_data",
       "text": [
        "Generalized least squares fit by maximum likelihood\n",
        "  Model: tube ~ poll \n",
        "  Data: NULL \n",
        "        AIC       BIC  logLik\n",
        "  -5.091939 -2.967789 5.54597\n",
        "\n",
        "Correlation Structure: corPagel\n",
        " Formula: ~1 \n",
        " Parameter estimate(s):\n",
        "lambda \n",
        "     1 \n",
        "\n",
        "Coefficients:\n",
        "                Value Std.Error  t-value p-value\n",
        "(Intercept) 2.1763960 0.7726541 2.816779  0.0146\n",
        "poll        0.7979095 0.3274002 2.437107  0.0299\n",
        "\n",
        " Correlation: \n",
        "     (Intr)\n",
        "poll -0.985\n",
        "\n",
        "Standardized residuals:\n",
        "        Min          Q1         Med          Q3         Max \n",
        "-1.88405393  0.09156266  0.92732321  1.27659509  1.99157052 \n",
        "\n",
        "Residual standard error: 0.231453 \n",
        "Degrees of freedom: 15 total; 13 residual\n"
       ]
      }
     ],
     "prompt_number": 353
    },
    {
     "cell_type": "code",
     "collapsed": false,
     "input": [
      "%%R \n",
      "anova(fitlambda)\n",
      "summary(fitlambda)"
     ],
     "language": "python",
     "metadata": {},
     "outputs": [
      {
       "metadata": {},
       "output_type": "display_data",
       "text": [
        "Generalized least squares fit by maximum likelihood\n",
        "  Model: poll ~ beak \n",
        "  Data: NULL \n",
        "        AIC      BIC   logLik\n",
        "  -11.14349 -8.31129 9.571745\n",
        "\n",
        "Correlation Structure: corPagel\n",
        " Formula: ~1 \n",
        " Parameter estimate(s):\n",
        " lambda \n",
        "1.06388 \n",
        "\n",
        "Coefficients:\n",
        "                Value Std.Error  t-value p-value\n",
        "(Intercept) 1.2500963 0.7084396 1.764577  0.1011\n",
        "beak        0.5211485 0.3380902 1.541448  0.1472\n",
        "\n",
        " Correlation: \n",
        "     (Intr)\n",
        "beak -0.988\n",
        "\n",
        "Standardized residuals:\n",
        "       Min         Q1        Med         Q3        Max \n",
        "-2.1257357 -1.1431134 -0.3898427  0.1624920  1.5733876 \n",
        "\n",
        "Residual standard error: 0.188524 \n",
        "Degrees of freedom: 15 total; 13 residual\n"
       ]
      }
     ],
     "prompt_number": 33
    },
    {
     "cell_type": "markdown",
     "metadata": {},
     "source": [
      "---------------    \n",
      "\n",
      "Lambda estimate of 0.03 means that these data do not fit a Brownian motion model very well at all, and there is little phylogenetic signal in the data. In the case of these data we can say this is likely a consequence of a high rate of morphological evolution and homoplasy. "
     ]
    },
    {
     "cell_type": "markdown",
     "metadata": {},
     "source": [
      "## Testing for constraint \n",
      "\n",
      "#### Measure $P$ within each population  \n",
      "Here we take the much easier, but less-than-ideal approach of measuring $P$ in place of $G$, the genetic variance-covariance matrix, because we are unable to do the experimental genetic crossses to measure $G$. According to quantitative genetics theory $P$ = $G$+$E$. "
     ]
    },
    {
     "cell_type": "code",
     "collapsed": false,
     "input": [
      "%%R\n",
      "\n",
      "library(plyr)\n",
      "library(abind)\n",
      "\n",
      "## read in the data frame\n",
      "Cmat <- read.table(\"crano_inds.txt\", header=TRUE)\n",
      "\n",
      "## log transform trait values\n",
      "Cmat[,c(1:6)] <- log(Cmat[,c(1:6)])\n",
      "\n",
      "## measure covariance matrices\n",
      "C <- daply(Cmat, \"population\", function(x) cov(x[, -ncol(x)]))\n",
      "\n",
      "## put the 1st dimension to the end\n",
      "C <- aperm(C, c(2, 3, 1)) \n",
      "    \n",
      "## calc mean across pops\n",
      "X = C[,,1]\n",
      "for (i in 2:6) X <- X+C[,,i]\n",
      "Pbar = X/6\n",
      "Pbar"
     ],
     "language": "python",
     "metadata": {},
     "outputs": [
      {
       "metadata": {},
       "output_type": "display_data",
       "text": [
        "               \n",
        "                  tube.length   beak.length corolla.width    lip.length\n",
        "  tube.length    0.0144555138  1.569466e-03  0.0028173944  0.0023785847\n",
        "  beak.length    0.0015694664  4.205751e-03  0.0004631136  0.0007495337\n",
        "  corolla.width  0.0028173944  4.631136e-04  0.0052954241  0.0042258795\n",
        "  lip.length     0.0023785847  7.495337e-04  0.0042258795  0.0067074234\n",
        "  beak.angle    -0.0005271202 -5.440494e-04 -0.0005728712 -0.0001292255\n",
        "  lip.width      0.0009928558  6.101724e-05  0.0039903537  0.0037252290\n",
        "               \n",
        "                   beak.angle    lip.width\n",
        "  tube.length   -0.0005271202 9.928558e-04\n",
        "  beak.length   -0.0005440494 6.101724e-05\n",
        "  corolla.width -0.0005728712 3.990354e-03\n",
        "  lip.length    -0.0001292255 3.725229e-03\n",
        "  beak.angle     0.0038797244 3.661462e-04\n",
        "  lip.width      0.0003661462 8.631625e-03\n"
       ]
      }
     ],
     "prompt_number": 395
    },
    {
     "cell_type": "code",
     "collapsed": false,
     "input": [
      "%%R\n",
      "## measure correlation matrices\n",
      "CC <- daply(Cmat, \"population\", function(x) cor(x[, -ncol(x)]))\n",
      "\n",
      "## put the 1st dimension to the end\n",
      "CC <- aperm(CC, c(2, 3, 1)) \n",
      "    \n",
      "X = CC[,,1]\n",
      "for (i in 2:6) X <- X+CC[,,i]\n",
      "Cbar = X/6\n",
      "Cbar"
     ],
     "language": "python",
     "metadata": {},
     "outputs": [
      {
       "metadata": {},
       "output_type": "display_data",
       "text": [
        "               \n",
        "                tube.length beak.length corolla.width  lip.length   beak.angle\n",
        "  tube.length    1.00000000  0.17745674     0.3294229  0.27781648 -0.090637333\n",
        "  beak.length    0.17745674  1.00000000     0.1714700  0.17287342 -0.096464077\n",
        "  corolla.width  0.32942288  0.17146999     1.0000000  0.67684951 -0.137970400\n",
        "  lip.length     0.27781648  0.17287342     0.6768495  1.00000000 -0.082204035\n",
        "  beak.angle    -0.09063733 -0.09646408    -0.1379704 -0.08220404  1.000000000\n",
        "  lip.width      0.11350946  0.11044147     0.5729502  0.51075043  0.009948739\n",
        "               \n",
        "                  lip.width\n",
        "  tube.length   0.113509456\n",
        "  beak.length   0.110441468\n",
        "  corolla.width 0.572950244\n",
        "  lip.length    0.510750427\n",
        "  beak.angle    0.009948739\n",
        "  lip.width     1.000000000\n"
       ]
      }
     ],
     "prompt_number": 396
    },
    {
     "cell_type": "code",
     "collapsed": false,
     "input": [
      "%%R\n",
      "## D is population means\n",
      "D <- data.frame(lapply(Cmat[Cmat$population==1,1:6], mean))\n",
      "for (pop in 2:26) {\n",
      "    d <- Cmat[Cmat$population==pop,]\n",
      "    a <- lapply(d[,1:6], mean)\n",
      "    D <- rbind(D,a)\n",
      "    }\n",
      "D"
     ],
     "language": "python",
     "metadata": {},
     "outputs": [
      {
       "metadata": {},
       "output_type": "display_data",
       "text": [
        "   tube.length beak.length corolla.width lip.length beak.angle lip.width\n",
        "1     3.934627    2.245862      3.539020   2.804163   4.410305  2.723780\n",
        "2     4.262303    1.876799      3.239872   2.574697   4.649550  2.769210\n",
        "3     4.296390    1.858561      3.280484   2.628318   4.598454  2.786873\n",
        "4     3.743096    1.784448      3.040969   2.342311   4.701902  2.520866\n",
        "5     3.792481    1.836956      3.081063   2.378358   4.717902  2.538385\n",
        "6     4.163939    1.808782      3.128433   2.443966   4.648747  2.637962\n",
        "7     4.086584    1.840643      3.126362   2.472897   4.615589  2.657241\n",
        "8     4.157522    1.841868      3.108226   2.414449   4.630259  2.613010\n",
        "9     4.014826    2.068105      3.134747   2.407459   4.296130  2.708760\n",
        "10    3.983293    2.006866      3.225503   2.521046   4.373911  2.672089\n",
        "11    4.256929    1.989628      3.334322   2.641719   4.486740  2.904514\n",
        "12    4.127274    1.926275      3.261467   2.546008   4.510927  2.800923\n",
        "13    4.209399    1.996421      3.290174   2.587228   4.509234  2.830978\n",
        "14    4.330750    1.954555      3.261267   2.545919   4.520676  2.820570\n",
        "15    4.128169    1.902614      3.242600   2.547422   4.538781  2.789139\n",
        "16    4.372915    1.912913      3.286610   2.572671   4.507643  2.833191\n",
        "17    4.353785    1.914162      3.179610   2.441550   4.470561  2.725081\n",
        "18    4.245316    1.831702      3.136960   2.400552   4.510392  2.668429\n",
        "19    4.141215    2.135558      3.036583   2.381961   4.374379  2.627409\n",
        "20    4.035150    2.185069      3.020954   2.338794   4.375210  2.574856\n",
        "21    3.756665    2.069637      3.063330   2.384770   4.360116  2.550678\n",
        "22    3.957171    2.194996      3.082244   2.376374   4.409186  2.697070\n",
        "23    3.711936    2.143139      3.068752   2.377358   4.485565  2.580927\n",
        "24    4.054115    1.807675      3.154997   2.404211   4.618738  2.628971\n",
        "25    4.187284    1.851386      3.226857   2.535795   4.605657  2.789970\n",
        "26    4.338210    1.798360      3.202392   2.498762   4.552597  2.791517\n"
       ]
      }
     ],
     "prompt_number": 135
    },
    {
     "cell_type": "code",
     "collapsed": false,
     "input": [
      "%%R\n",
      "## Dnorm is the vcv of population means\n",
      "Dnorm <- cov(D)\n",
      "Dnorm"
     ],
     "language": "python",
     "metadata": {},
     "outputs": [
      {
       "metadata": {},
       "output_type": "display_data",
       "text": [
        "               tube.length   beak.length corolla.width    lip.length\n",
        "tube.length    0.038208931 -0.0095352602  0.0094304102  9.273021e-03\n",
        "beak.length   -0.009535260  0.0191785734  0.0009907443  9.939822e-04\n",
        "corolla.width  0.009430410  0.0009907443  0.0134941705  1.268574e-02\n",
        "lip.length     0.009273021  0.0009939822  0.0126857421  1.256026e-02\n",
        "beak.angle     0.002127063 -0.0126928885 -0.0004760311 -1.633319e-05\n",
        "lip.width      0.015424289 -0.0010795712  0.0090681988  8.793313e-03\n",
        "                 beak.angle     lip.width\n",
        "tube.length    2.127063e-03  0.0154242894\n",
        "beak.length   -1.269289e-02 -0.0010795712\n",
        "corolla.width -4.760311e-04  0.0090681988\n",
        "lip.length    -1.633319e-05  0.0087933133\n",
        "beak.angle     1.280737e-02 -0.0008067006\n",
        "lip.width     -8.067006e-04  0.0110034770\n"
       ]
      }
     ],
     "prompt_number": 136
    },
    {
     "cell_type": "code",
     "collapsed": false,
     "input": [
      "%%R\n",
      "\n",
      "## only use pops with phylo data\n",
      "Dphylo <- D[as.integer(Ctree$tip.label),]\n",
      "\n",
      "## Dic is the vcv of population means\n",
      "PICS <- lapply(Dphylo, pic, Ctree)\n",
      "Dic <- matrix(0,6,6)"
     ],
     "language": "python",
     "metadata": {},
     "outputs": [],
     "prompt_number": 179
    },
    {
     "cell_type": "code",
     "collapsed": false,
     "input": [
      "%%R\n",
      "\n",
      "## fill in the matrix components\n",
      "rate.tube <- mean(ll$tube.length**2)\n",
      "rate.beak <- mean(ll$beak.length**2)\n",
      "rate.corw <- mean(ll$corolla.width**2)\n",
      "rate.lipl <- mean(ll$lip.length**2)\n",
      "rate.angle <- mean(ll$beak.angle**2)\n",
      "rate.lipw <- mean(ll$lip.width**2)\n",
      "\n",
      "rownames(Dic) <- rownames(Dnorm)\n",
      "colnames(Dic) <- colnames(Dnorm)\n",
      "\n",
      "Dic[1,1] <- rate.tube\n",
      "Dic[2,2] <- rate.beak\n",
      "Dic[3,3] <- rate.corw\n",
      "Dic[4,4] <- rate.lipl\n",
      "Dic[5,5] <- rate.angle\n",
      "Dic[6,6] <- rate.lipw\n",
      "\n",
      "for (i in 1:6) {\n",
      "    for (j in 1:6) {\n",
      "        Dic[i,j] <- Dic[j,i] <- crossprod(PICS[[i]],PICS[[j]])\n",
      "    }\n",
      "}\n",
      "\n",
      "## print the Dic\n",
      "Dic"
     ],
     "language": "python",
     "metadata": {},
     "outputs": [
      {
       "metadata": {},
       "output_type": "display_data",
       "text": [
        "              tube.length beak.length corolla.width lip.length beak.angle\n",
        "tube.length    2.08191125 -0.05599698     0.2482988  0.3125250 -0.2297559\n",
        "beak.length   -0.05599698  0.58179797     0.2668352  0.2451012 -0.5003142\n",
        "corolla.width  0.24829878  0.26683525     0.4987866  0.4920016 -0.1407272\n",
        "lip.length     0.31252498  0.24510121     0.4920016  0.5125137 -0.1152473\n",
        "beak.angle    -0.22975587 -0.50031424    -0.1407272 -0.1152473  0.6646811\n",
        "lip.width      0.69121237  0.20914769     0.3482081  0.3686339 -0.2200475\n",
        "               lip.width\n",
        "tube.length    0.6912124\n",
        "beak.length    0.2091477\n",
        "corolla.width  0.3482081\n",
        "lip.length     0.3686339\n",
        "beak.angle    -0.2200475\n",
        "lip.width      0.5513611\n"
       ]
      }
     ],
     "prompt_number": 191
    },
    {
     "cell_type": "markdown",
     "metadata": {},
     "source": [
      "## Are the different population $P$'s equivalent (similar)?\n",
      "#### print the covariance matrices to a file for input to CPC"
     ]
    },
    {
     "cell_type": "code",
     "collapsed": false,
     "input": [
      "%R -o C\n",
      "\n",
      "outfile = open(\"cpca_in.txt\", 'w')\n",
      "\n",
      "print >>outfile, len(C[0][0])\n",
      "print >>outfile, len(C)\n",
      "print >>outfile, 10\n",
      "\n",
      "for pop in range(len(C[0][0])):\n",
      "    for i in range(len(C)):\n",
      "        for k in range(i+1):\n",
      "            print >>outfile, C[i][k][pop], \n",
      "        print >>outfile, \"\"\n",
      "    print >>outfile, 10   \n",
      "outfile.close()"
     ],
     "language": "python",
     "metadata": {},
     "outputs": [],
     "prompt_number": 580
    },
    {
     "cell_type": "markdown",
     "metadata": {},
     "source": [
      "#### Correlation between $P$ and $D$ or $D_{ic}$"
     ]
    },
    {
     "cell_type": "code",
     "collapsed": false,
     "input": [
      "%%R\n",
      "\n",
      "library(vegan)\n",
      "mantel(Pbar, Dnorm, perm=9999)"
     ],
     "language": "python",
     "metadata": {},
     "outputs": [
      {
       "metadata": {},
       "output_type": "display_data",
       "text": [
        "\n",
        "Mantel statistic based on Pearson's product-moment correlation \n",
        "\n",
        "Call:\n",
        "mantel(xdis = Pbar, ydis = Dnorm, permutations = 9999) \n",
        "\n",
        "Mantel statistic r: 0.6418 \n",
        "      Significance: 0.0688 \n",
        "\n",
        "Upper quantiles of permutations (null model):\n",
        "  90%   95% 97.5%   99% \n",
        "0.476 0.746 0.790 0.804 \n",
        "\n",
        "Based on 9999 permutations\n",
        "\n"
       ]
      }
     ],
     "prompt_number": 241
    },
    {
     "cell_type": "code",
     "collapsed": false,
     "input": [
      "%%R\n",
      "mantel(Pbar, Dic, perm=9999)"
     ],
     "language": "python",
     "metadata": {},
     "outputs": [
      {
       "metadata": {},
       "output_type": "display_data",
       "text": [
        "\n",
        "Mantel statistic based on Pearson's product-moment correlation \n",
        "\n",
        "Call:\n",
        "mantel(xdis = Pbar, ydis = Dic, permutations = 9999) \n",
        "\n",
        "Mantel statistic r: 0.6615 \n",
        "      Significance: 0.0399 \n",
        "\n",
        "Upper quantiles of permutations (null model):\n",
        "  90%   95% 97.5%   99% \n",
        "0.559 0.635 0.723 0.785 \n",
        "\n",
        "Based on 9999 permutations\n",
        "\n"
       ]
      }
     ],
     "prompt_number": 258
    },
    {
     "cell_type": "code",
     "collapsed": false,
     "input": [
      "%%R -w 600 -h 300 -u px\n",
      "\n",
      "#png(\"DPbar.png\", width=800, height=400, res=\"92\")\n",
      "par(mfrow=c(1,2))\n",
      "plot(Pbar~Dnorm, pch=21, bg=\"gray30\", cex=2, main=\"r=0.64, p=0.07\")\n",
      "plot(Pbar~Dic, pch=21, bg=\"gray30\", cex=2, main=\"r=0.66, p=0.04\")\n",
      "#dev.off()"
     ],
     "language": "python",
     "metadata": {},
     "outputs": [
      {
       "metadata": {},
       "output_type": "display_data",
       "png": "[encoded data removed]"
      }
     ],
     "prompt_number": 363
    },
    {
     "cell_type": "markdown",
     "metadata": {},
     "source": [
      "### Analyze covariance matrices in _CPC_"
     ]
    },
    {
     "cell_type": "code",
     "collapsed": false,
     "input": [
      "! tail -n 30 cpca_out.txt"
     ],
     "language": "python",
     "metadata": {},
     "outputs": [
      {
       "output_type": "stream",
       "stream": "stdout",
       "text": [
        "\r\n",
        "*** Flury Decomposition of Chi Square ***\r\n",
        "    (Step-up & model building approaches)\r\n",
        "\r\n",
        "_______Model______\r\n",
        "Higher       Lower   Chi Sqr  df   p-val   CS/df   AIC\r\n",
        "--------------------------------------------------------\r\n",
        "Equality   Proport    57.112  25  0.0003   2.284 894.805\r\n",
        "Proport    CPC       211.420 125  0.0000   1.691 887.694\r\n",
        "CPC        CPC(4)     46.289  25  0.0059   1.852 926.274\r\n",
        "CPC(4)     CPC(3)     81.957  50  0.0029   1.639 929.986\r\n",
        "CPC(3)     CPC(2)    121.559  75  0.0005   1.621 948.029\r\n",
        "CPC(2)     CPC(1)    173.709 100  0.0000   1.737 976.470\r\n",
        "CPC(1)     Unrelated 202.761 125  0.0000   1.622 1002.761\r\n",
        "Unrelated   ---                                  1050.000\r\n",
        "\r\n",
        "\r\n",
        "*** Test against Unrelated/Arbitrary Structure ***\r\n",
        "    (Jump-up approach)\r\n",
        "\r\n",
        "_______Model______\r\n",
        "Higher       Lower   Chi Sqr  df   p-val\r\n",
        "-----------------------------------------\r\n",
        "Equality  Unrelated   894.805 525  0.0000\r\n",
        "Proport   Unrelated   837.694 500  0.0000\r\n",
        "CPC       Unrelated   626.274 375  0.0000\r\n",
        "CPC(4)    Unrelated   579.986 350  0.0000\r\n",
        "CPC(3)    Unrelated   498.029 300  0.0000\r\n",
        "CPC(2)    Unrelated   376.470 225  0.0000\r\n",
        "CPC(1)    Unrelated   202.761 125  0.0000\r\n"
       ]
      }
     ],
     "prompt_number": 583
    },
    {
     "cell_type": "markdown",
     "metadata": {},
     "source": [
      "#### Which traits are most highly correlated?"
     ]
    },
    {
     "cell_type": "code",
     "collapsed": false,
     "input": [],
     "language": "python",
     "metadata": {},
     "outputs": [],
     "prompt_number": 0
    },
    {
     "cell_type": "markdown",
     "metadata": {},
     "source": [
      "#### Measure $D_w$, a phylogenetically independent VCV of pop means for traits  \n",
      "\n",
      "Measure independent contrasts, standardize by dividing them by the square-root of the corrected branch lengths, and then multiplying by the square-root of two times the total tree depth. This makes all contrasts have expected variance equivalent to a contrast taken through the root of the tree. "
     ]
    },
    {
     "cell_type": "code",
     "collapsed": false,
     "input": [],
     "language": "python",
     "metadata": {},
     "outputs": [],
     "prompt_number": 0
    },
    {
     "cell_type": "markdown",
     "metadata": {},
     "source": [
      "#### Measure $D_A$, a phylogenetically independent VCV of species means for traits"
     ]
    },
    {
     "cell_type": "code",
     "collapsed": false,
     "input": [],
     "language": "python",
     "metadata": {},
     "outputs": [],
     "prompt_number": 1
    },
    {
     "cell_type": "markdown",
     "metadata": {},
     "source": [
      "$D_W$ ~ $P$  \n",
      "Use mantel test on standardized matrices;  \n",
      "Use mean random skewers;  "
     ]
    },
    {
     "cell_type": "code",
     "collapsed": false,
     "input": [],
     "language": "python",
     "metadata": {},
     "outputs": []
    },
    {
     "cell_type": "markdown",
     "metadata": {},
     "source": [
      "$D_W$ ~ $\\bar{P}$"
     ]
    },
    {
     "cell_type": "code",
     "collapsed": false,
     "input": [],
     "language": "python",
     "metadata": {},
     "outputs": [],
     "prompt_number": 2
    },
    {
     "cell_type": "markdown",
     "metadata": {},
     "source": [
      "$D_A$ ~ $\\bar{P}$"
     ]
    },
    {
     "cell_type": "code",
     "collapsed": false,
     "input": [],
     "language": "python",
     "metadata": {},
     "outputs": [],
     "prompt_number": 2
    },
    {
     "cell_type": "markdown",
     "metadata": {},
     "source": [
      "$D_A$ ~ $\\bar{P}$ across time slices"
     ]
    },
    {
     "cell_type": "code",
     "collapsed": false,
     "input": [
      "drop.tips()"
     ],
     "language": "python",
     "metadata": {},
     "outputs": []
    },
    {
     "cell_type": "markdown",
     "metadata": {},
     "source": [
      "## Python stuff"
     ]
    },
    {
     "cell_type": "code",
     "collapsed": false,
     "input": [
      "Cdata = pd.io.parsers.read_table(\"crano_means2.txt\")\n",
      "#print Cdata"
     ],
     "language": "python",
     "metadata": {},
     "outputs": []
    },
    {
     "cell_type": "code",
     "collapsed": false,
     "input": [
      "Ydata = pd.io.parsers.read_table(\"Yang2004_data.txt\")"
     ],
     "language": "python",
     "metadata": {},
     "outputs": []
    },
    {
     "cell_type": "code",
     "collapsed": false,
     "input": [
      "Edata = pd.io.parsers.read_table(\"sp_traits.txt\")"
     ],
     "language": "python",
     "metadata": {},
     "outputs": []
    }
   ],
   "metadata": {}
  }
 ]
}